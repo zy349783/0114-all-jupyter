{
 "cells": [
  {
   "cell_type": "code",
   "execution_count": null,
   "metadata": {
    "scrolled": true
   },
   "outputs": [
    {
     "name": "stdout",
     "output_type": "stream",
     "text": [
      "0:24:26.678013\n",
      "20200407 SH finished\n",
      "0:27:52.110045\n",
      "20200408 SH finished\n",
      "0:25:02.922939\n",
      "20200409 SH finished\n"
     ]
    }
   ],
   "source": [
    "import pandas as pd\n",
    "import random\n",
    "import numpy as np\n",
    "import glob\n",
    "import os\n",
    "from unrar import rarfile\n",
    "import py7zr\n",
    "import pickle\n",
    "import datetime\n",
    "import time\n",
    "pd.set_option(\"max_columns\", 200)\n",
    "\n",
    "\n",
    "year = \"2020\"\n",
    "startDate = '20200406'\n",
    "endDate = '20200531'\n",
    "bad = []\n",
    "less = []\n",
    "readPath = 'K:\\\\data\\\\' + year + '\\\\***\\\\***'\n",
    "dataPathLs = np.array(glob.glob(readPath))\n",
    "dateLs = np.array([os.path.basename(i).split('_')[0] for i in dataPathLs])\n",
    "dataPathLs = dataPathLs[(dateLs >= startDate) & (dateLs <= endDate)]\n",
    "date_list = pd.read_csv(\"G:\\\\trading_days.csv\")\n",
    "l = []\n",
    "for data in dataPathLs:\n",
    "    if len(np.array(glob.glob(data + '\\\\SH\\\\***'))) == 0:\n",
    "        if int(os.path.basename(data)) not in date_list[\"Date\"].values:\n",
    "            continue\n",
    "        else:\n",
    "            print(os.path.basename(data) + \" less data!!!!!!!!!!!!!!!!!\")\n",
    "            less.append(data)\n",
    "            continue\n",
    "    \n",
    "    startTm = datetime.datetime.now()\n",
    "    date = os.path.basename(data)\n",
    "    exe_path = 'G:\\\\7z1900-extra\\\\7za.exe'\n",
    "    rar_path = data + '\\\\SH\\\\snapshot.7z'\n",
    "    path = 'L:\\\\DB\\\\' + year + '\\\\SH'\n",
    "    path1 = path + '\\\\' + date\n",
    "    un_path = path1\n",
    "    cmd = '{} x {} -o{} -aos -r'.format(exe_path, rar_path, un_path)\n",
    "    os.system(cmd)\n",
    "    \n",
    "    l.append(data)\n",
    "    print(datetime.datetime.now() - startTm)\n",
    "    print(date + ' SH finished')\n",
    "    \n",
    "print(len(l))\n",
    "print(bad)\n",
    "print(less)"
   ]
  }
 ],
 "metadata": {
  "kernelspec": {
   "display_name": "Python 3",
   "language": "python",
   "name": "python3"
  },
  "language_info": {
   "codemirror_mode": {
    "name": "ipython",
    "version": 3
   },
   "file_extension": ".py",
   "mimetype": "text/x-python",
   "name": "python",
   "nbconvert_exporter": "python",
   "pygments_lexer": "ipython3",
   "version": "3.7.4"
  }
 },
 "nbformat": 4,
 "nbformat_minor": 2
}
