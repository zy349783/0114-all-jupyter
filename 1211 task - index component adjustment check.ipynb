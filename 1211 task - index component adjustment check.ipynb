{
 "cells": [
  {
   "cell_type": "code",
   "execution_count": 34,
   "metadata": {},
   "outputs": [],
   "source": [
    "import pandas as pd\n",
    "import numpy as np\n",
    "a1 = pd.read_excel(r'E:\\调入.xlsx')\n",
    "a2 = pd.read_excel(r'E:\\调出.xlsx')\n",
    "a1['StockID'] = np.where(a1['证券代码'] > '600000', 'SH' + a1['证券代码'], 'SZ' + a1['证券代码'])\n",
    "a2['StockID'] = np.where(a2['证券代码'] > '600000', 'SH' + a2['证券代码'], 'SZ' + a2['证券代码'])"
   ]
  },
  {
   "cell_type": "code",
   "execution_count": 35,
   "metadata": {},
   "outputs": [],
   "source": [
    "sl1 = a1[a1['指数简称'].isin(['沪深300', '中证500', '中证1000', '中证全指'])]['StockID'].unique()"
   ]
  },
  {
   "cell_type": "code",
   "execution_count": 43,
   "metadata": {},
   "outputs": [
    {
     "data": {
      "text/html": [
       "<div>\n",
       "<style scoped>\n",
       "    .dataframe tbody tr th:only-of-type {\n",
       "        vertical-align: middle;\n",
       "    }\n",
       "\n",
       "    .dataframe tbody tr th {\n",
       "        vertical-align: top;\n",
       "    }\n",
       "\n",
       "    .dataframe thead th {\n",
       "        text-align: right;\n",
       "    }\n",
       "</style>\n",
       "<table border=\"1\" class=\"dataframe\">\n",
       "  <thead>\n",
       "    <tr style=\"text-align: right;\">\n",
       "      <th></th>\n",
       "      <th>指数代码</th>\n",
       "      <th>指数简称</th>\n",
       "      <th>证券代码</th>\n",
       "      <th>证券简称</th>\n",
       "      <th>StockID</th>\n",
       "    </tr>\n",
       "  </thead>\n",
       "  <tbody>\n",
       "    <tr>\n",
       "      <td>1675</td>\n",
       "      <td>000985</td>\n",
       "      <td>中证全指</td>\n",
       "      <td>300064</td>\n",
       "      <td>ST金刚</td>\n",
       "      <td>SZ300064</td>\n",
       "    </tr>\n",
       "  </tbody>\n",
       "</table>\n",
       "</div>"
      ],
      "text/plain": [
       "        指数代码  指数简称    证券代码  证券简称   StockID\n",
       "1675  000985  中证全指  300064  ST金刚  SZ300064"
      ]
     },
     "execution_count": 43,
     "metadata": {},
     "output_type": "execute_result"
    }
   ],
   "source": [
    "a2[a2['指数简称'] == '中证全指']"
   ]
  },
  {
   "cell_type": "code",
   "execution_count": 36,
   "metadata": {},
   "outputs": [],
   "source": [
    "sl2 = a2[a2['指数简称'].isin(['沪深300', '中证500', '中证1000', '中证全指'])]['StockID'].unique()"
   ]
  },
  {
   "cell_type": "code",
   "execution_count": 37,
   "metadata": {},
   "outputs": [
    {
     "data": {
      "text/plain": [
       "{'SH600017',\n",
       " 'SH600058',\n",
       " 'SH600076',\n",
       " 'SH600138',\n",
       " 'SH600207',\n",
       " 'SH600221',\n",
       " 'SH600230',\n",
       " 'SH600269',\n",
       " 'SH600283',\n",
       " 'SH600298',\n",
       " 'SH600310',\n",
       " 'SH600320',\n",
       " 'SH600322',\n",
       " 'SH600428',\n",
       " 'SH600467',\n",
       " 'SH600478',\n",
       " 'SH600521',\n",
       " 'SH600533',\n",
       " 'SH600583',\n",
       " 'SH600611',\n",
       " 'SH600674',\n",
       " 'SH600681',\n",
       " 'SH600691',\n",
       " 'SH600757',\n",
       " 'SH600759',\n",
       " 'SH600777',\n",
       " 'SH600798',\n",
       " 'SH600897',\n",
       " 'SH600977',\n",
       " 'SH600995',\n",
       " 'SH601015',\n",
       " 'SH601018',\n",
       " 'SH601019',\n",
       " 'SH601101',\n",
       " 'SH601107',\n",
       " 'SH601212',\n",
       " 'SH601811',\n",
       " 'SH601898',\n",
       " 'SH603063',\n",
       " 'SH603233',\n",
       " 'SH603318',\n",
       " 'SH603399',\n",
       " 'SH603458',\n",
       " 'SH603517',\n",
       " 'SH603603',\n",
       " 'SH603618',\n",
       " 'SH603648',\n",
       " 'SH603659',\n",
       " 'SH603707',\n",
       " 'SH603939',\n",
       " 'SZ000056',\n",
       " 'SZ000150',\n",
       " 'SZ000429',\n",
       " 'SZ000514',\n",
       " 'SZ000520',\n",
       " 'SZ000525',\n",
       " 'SZ000532',\n",
       " 'SZ000576',\n",
       " 'SZ000584',\n",
       " 'SZ000615',\n",
       " 'SZ000626',\n",
       " 'SZ000712',\n",
       " 'SZ000785',\n",
       " 'SZ000800',\n",
       " 'SZ000821',\n",
       " 'SZ000822',\n",
       " 'SZ000965',\n",
       " 'SZ000987',\n",
       " 'SZ000996',\n",
       " 'SZ001896',\n",
       " 'SZ002060',\n",
       " 'SZ002065',\n",
       " 'SZ002067',\n",
       " 'SZ002073',\n",
       " 'SZ002101',\n",
       " 'SZ002118',\n",
       " 'SZ002127',\n",
       " 'SZ002141',\n",
       " 'SZ002167',\n",
       " 'SZ002229',\n",
       " 'SZ002235',\n",
       " 'SZ002284',\n",
       " 'SZ002285',\n",
       " 'SZ002305',\n",
       " 'SZ002345',\n",
       " 'SZ002346',\n",
       " 'SZ002355',\n",
       " 'SZ002370',\n",
       " 'SZ002377',\n",
       " 'SZ002433',\n",
       " 'SZ002439',\n",
       " 'SZ002443',\n",
       " 'SZ002451',\n",
       " 'SZ002464',\n",
       " 'SZ002466',\n",
       " 'SZ002478',\n",
       " 'SZ002485',\n",
       " 'SZ002491',\n",
       " 'SZ002538',\n",
       " 'SZ002564',\n",
       " 'SZ002590',\n",
       " 'SZ002665',\n",
       " 'SZ002751',\n",
       " 'SZ002759',\n",
       " 'SZ002776',\n",
       " 'SZ300011',\n",
       " 'SZ300061',\n",
       " 'SZ300064',\n",
       " 'SZ300098',\n",
       " 'SZ300107',\n",
       " 'SZ300148',\n",
       " 'SZ300176',\n",
       " 'SZ300197',\n",
       " 'SZ300237',\n",
       " 'SZ300253',\n",
       " 'SZ300262',\n",
       " 'SZ300309',\n",
       " 'SZ300332',\n",
       " 'SZ300336',\n",
       " 'SZ300424',\n",
       " 'SZ300558',\n",
       " 'SZ300661'}"
      ]
     },
     "execution_count": 37,
     "metadata": {},
     "output_type": "execute_result"
    }
   ],
   "source": [
    "set(sl2) - set(sl1)"
   ]
  },
  {
   "cell_type": "code",
   "execution_count": 31,
   "metadata": {},
   "outputs": [
    {
     "data": {
      "text/plain": [
       "{'SZ300064'}"
      ]
     },
     "execution_count": 31,
     "metadata": {},
     "output_type": "execute_result"
    }
   ],
   "source": [
    "a1 = pd.read_csv(r'E:\\IC_in_202012.csv')['StockID'].unique()\n",
    "a2 = pd.read_csv(r'E:\\IF_in_202012.csv')['StockID'].unique()\n",
    "a3 = pd.read_csv(r'E:\\CSI1000_in_202012.csv')['StockID'].unique()\n",
    "a4 = pd.read_csv(r'E:\\CSIRest_in_202012.csv')['StockID'].unique()\n",
    "b1 = pd.read_csv(r'E:\\IC_out_202012.csv')['StockID'].unique()\n",
    "b2 = pd.read_csv(r'E:\\IF_out_202012.csv')['StockID'].unique()\n",
    "b3 = pd.read_csv(r'E:\\CSI1000_out_202012.csv')['StockID'].unique()\n",
    "b4 = pd.read_csv(r'E:\\CSIRest_out_202012.csv')['StockID'].unique()\n",
    "\n",
    "l1 = set(b1) | set(b2) | set(b3) | set(b4)\n",
    "l2 = set(a1) | set(a2) | set(a3) | set(a4)\n",
    "l1 - l2"
   ]
  },
  {
   "cell_type": "code",
   "execution_count": 41,
   "metadata": {},
   "outputs": [
    {
     "data": {
      "text/plain": [
       "True"
      ]
     },
     "execution_count": 41,
     "metadata": {},
     "output_type": "execute_result"
    }
   ],
   "source": [
    "'SH600017' in a4"
   ]
  },
  {
   "cell_type": "code",
   "execution_count": 33,
   "metadata": {},
   "outputs": [
    {
     "data": {
      "text/plain": [
       "228"
      ]
     },
     "execution_count": 33,
     "metadata": {},
     "output_type": "execute_result"
    }
   ],
   "source": [
    "len(l1)"
   ]
  },
  {
   "cell_type": "code",
   "execution_count": 17,
   "metadata": {},
   "outputs": [
    {
     "data": {
      "text/plain": [
       "228"
      ]
     },
     "execution_count": 17,
     "metadata": {},
     "output_type": "execute_result"
    }
   ],
   "source": [
    "26 + 50 + 100 + 52"
   ]
  },
  {
   "cell_type": "code",
   "execution_count": 19,
   "metadata": {},
   "outputs": [
    {
     "data": {
      "text/plain": [
       "指数代码\n",
       "000300     26\n",
       "000852    100\n",
       "000905     50\n",
       "000985      1\n",
       "Name: 证券代码, dtype: int64"
      ]
     },
     "execution_count": 19,
     "metadata": {},
     "output_type": "execute_result"
    }
   ],
   "source": [
    "a2[a2['指数简称'].isin(['沪深300', '中证500', '中证1000', '中证全指'])].groupby('指数代码')['证券代码'].nunique()"
   ]
  }
 ],
 "metadata": {
  "kernelspec": {
   "display_name": "Python 3",
   "language": "python",
   "name": "python3"
  },
  "language_info": {
   "codemirror_mode": {
    "name": "ipython",
    "version": 3
   },
   "file_extension": ".py",
   "mimetype": "text/x-python",
   "name": "python",
   "nbconvert_exporter": "python",
   "pygments_lexer": "ipython3",
   "version": "3.7.4"
  }
 },
 "nbformat": 4,
 "nbformat_minor": 2
}
