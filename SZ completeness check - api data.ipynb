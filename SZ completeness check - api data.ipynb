{
 "cells": [
  {
   "cell_type": "code",
   "execution_count": null,
   "metadata": {},
   "outputs": [],
   "source": [
    "logSZ = pd.read_csv(r'F:\\data\\20200817\\full_20200817_zs_66_01_day_6678\\mdLog_SZ_20200817_0845.csv').loc[:, [\"clockAtArrival\", \"sequenceNo\", \"source\", \"StockID\",\n",
    "                                              \"exchange\", \"time\", \"cum_volume\", \"cum_amount\", \"close\",\n",
    "                                              \"bid1p\", \"bid2p\", \"bid3p\", \"bid4p\", \"bid5p\", \"bid1q\",\n",
    "                                              \"bid2q\", \"bid3q\", \"bid4q\", \"bid5q\", \"ask1p\", \"ask2p\",\n",
    "                                              \"ask3p\", \"ask4p\", \"ask5p\", \"ask1q\", \"ask2q\", \"ask3q\",\n",
    "                                              \"ask4q\", \"ask5q\", \"openPrice\"]]\n",
    "logSZ1 = pd.read_csv(r'F:\\data\\20200817\\full_20200817_zs_66_01_day_test\\mdLog_SZ_20200817_0859.csv').loc[:, [\"clockAtArrival\", \"sequenceNo\", \"source\", \"StockID\",\n",
    "                                              \"exchange\", \"time\", \"cum_volume\", \"cum_amount\", \"close\",\n",
    "                                              \"bid1p\", \"bid2p\", \"bid3p\", \"bid4p\", \"bid5p\", \"bid1q\",\n",
    "                                              \"bid2q\", \"bid3q\", \"bid4q\", \"bid5q\", \"ask1p\", \"ask2p\",\n",
    "                                              \"ask3p\", \"ask4p\", \"ask5p\", \"ask1q\", \"ask2q\", \"ask3q\",\n",
    "                                              \"ask4q\", \"ask5q\", \"openPrice\"]]\n",
    "print(\"original data source type: \")\n",
    "print(logSZ[\"source\"].unique())\n",
    "print(\"new data source type: \")\n",
    "print(logSZ1[\"source\"].unique())\n",
    "print(logSZ[\"time\"].unique())\n",
    "print(logSZ1[\"time\"].unique())"
   ]
  },
  {
   "cell_type": "code",
   "execution_count": null,
   "metadata": {},
   "outputs": [],
   "source": [
    "logSZ1[\"time\"] = logSZ1[\"time\"].apply(lambda x: int((x.replace(':', \"\")).replace(\".\", \"\")))\n",
    "logSZ[\"time\"] = logSZ[\"time\"].apply(lambda x: int((x.replace(':', \"\")).replace(\".\", \"\")))\n",
    "\n",
    "display(logSZ[(logSZ[\"StockID\"] == 1) & (logSZ[\"time\"] >= 93000000) & (logSZ[\"time\"] <= 93500000)])\n",
    "display(logSZ1[(logSZ1[\"StockID\"] == 1) & (logSZ1[\"time\"] >= 93000000) & (logSZ1[\"time\"] <= 93500000)])"
   ]
  },
  {
   "cell_type": "code",
   "execution_count": null,
   "metadata": {},
   "outputs": [],
   "source": [
    "data1 = logSZ[(logSZ[\"cum_volume\"] > 0) & (logSZ[\"time\"] < 145700000) & (logSZ[\"source\"] == 4)]\n",
    "data2 = logSZ1[(logSZ1[\"cum_volume\"] > 0) & (logSZ1[\"time\"] < 145700000) & (logSZ1[\"source\"] == 24)]\n",
    "columns = [\"StockID\", \"cum_volume\", \"cum_amount\", \"close\", \"bid1p\", \"bid2p\", \"bid3p\", \"bid4p\", \"bid5p\", \"bid1q\", \"bid2q\",\n",
    "           \"bid3q\", \"bid4q\", \"bid5q\", \"ask1p\", \"ask2p\", \"ask3p\", \"ask4p\", \"ask5p\", \"ask1q\", \"ask2q\", \"ask3q\",\n",
    "           \"ask4q\", \"ask5q\", \"openPrice\"]\n",
    "data1_1 = data1.drop_duplicates(subset=columns, keep=\"first\").reset_index()\n",
    "data2_1 = data2.drop_duplicates(subset=columns, keep=\"first\").reset_index()\n",
    "n1 = len(data1_1[\"StockID\"].unique())\n",
    "n2 = len(data2_1[\"StockID\"].unique())\n",
    "print(n1)\n",
    "print(n2)\n",
    "if n1 != n2:\n",
    "    sl = list(set(data1_1[\"StockID\"].unique()) & (set(data2_1[\"StockID\"].unique())))\n",
    "    data1_1 = data1_1[data1_1[\"StockID\"].isin(sl)]\n",
    "    data2_1 = data2_1[data2_1[\"StockID\"].isin(sl)]\n",
    "test = pd.merge(data1_1, data2_1, left_on=columns, right_on=columns, how=\"outer\")\n",
    "n1 = test[\"sequenceNo_x\"].count()\n",
    "n2 = test[\"sequenceNo_y\"].count()\n",
    "len1 = len(test)\n",
    "print(n1)\n",
    "print(n2)\n",
    "print(len1)\n",
    "print(\"-----------------------------------------------\")\n",
    "if n2 < len1:\n",
    "    display(\"test is not complete:\")\n",
    "    display(test[np.isnan(test[\"sequenceNo_y\"])])\n",
    "    print(len(test[np.isnan(test[\"sequenceNo_y\"])])/n1)\n",
    "if (len1 == n2) & (n1 < len1):\n",
    "    display(\"baseline is not complete:\")\n",
    "    display(test[np.isnan(test[\"sequenceNo_x\"])])\n",
    "    display(n2-n1)"
   ]
  },
  {
   "cell_type": "code",
   "execution_count": null,
   "metadata": {},
   "outputs": [],
   "source": []
  }
 ],
 "metadata": {
  "kernelspec": {
   "display_name": "Python 3",
   "language": "python",
   "name": "python3"
  },
  "language_info": {
   "codemirror_mode": {
    "name": "ipython",
    "version": 3
   },
   "file_extension": ".py",
   "mimetype": "text/x-python",
   "name": "python",
   "nbconvert_exporter": "python",
   "pygments_lexer": "ipython3",
   "version": "3.7.4"
  }
 },
 "nbformat": 4,
 "nbformat_minor": 2
}
