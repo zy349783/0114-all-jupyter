{
 "cells": [
  {
   "cell_type": "code",
   "execution_count": 6,
   "metadata": {},
   "outputs": [
    {
     "name": "stdout",
     "output_type": "stream",
     "text": [
      "     StockID       公布日       截止日 预警类型\n",
      "24  SZ002413  20171031  20171231   预增\n",
      "     StockID       公布日       截止日 预警类型\n",
      "36  SZ002160  20171031  20171231   预警\n",
      "     StockID       公布日       截止日 预警类型\n",
      "36  SZ002259  20171030  20171231   预减\n"
     ]
    }
   ],
   "source": [
    "import matplotlib.pyplot as plt\n",
    "import pandas as pd\n",
    "import numpy as np\n",
    "from pandas.plotting import register_matplotlib_converters\n",
    "register_matplotlib_converters()\n",
    "import pickle\n",
    "import seaborn as sns\n",
    "from matplotlib.ticker import Formatter\n",
    "\n",
    "# F1 = open(r'C:\\\\Users\\\\win\\\\Downloads\\\\FastFinancialReport.pkl', 'rb')\n",
    "# F2 = open(r'C:\\\\Users\\\\win\\\\Downloads\\\\ForcastFinancialReport.pkl', 'rb')\n",
    "# kb = pickle.load(F1)\n",
    "# yb = pickle.load(F2)\n",
    "# alpha = pd.read_csv('E:\\\\new_beta1.csv', encoding=\"utf-8\").iloc[:, 1:]\n",
    "# alpha = alpha.sort_values(by=[\"Date\", \"ID\"])\n",
    "# date1 = pd.Series(np.sort(alpha[\"Date\"].unique()))\n",
    "# yb = yb[yb[\"预警类型\"] != \"\"]\n",
    "print(yb[(yb[\"StockID\"] == \"SZ002413\") & (yb[\"公布日\"] == 20171031)].loc[:,[\"StockID\", \"公布日\", \"截止日\", \"预警类型\"]])\n",
    "print(yb[(yb[\"StockID\"] == \"SZ002160\") & (yb[\"公布日\"] == 20171031)].loc[:,[\"StockID\", \"公布日\", \"截止日\", \"预警类型\"]])\n",
    "print(yb[(yb[\"StockID\"] == \"SZ002259\") & (yb[\"公布日\"] == 20171030)].loc[:,[\"StockID\", \"公布日\", \"截止日\", \"预警类型\"]])"
   ]
  },
  {
   "cell_type": "code",
   "execution_count": 3,
   "metadata": {},
   "outputs": [
    {
     "name": "stdout",
     "output_type": "stream",
     "text": [
      "    StockID StockName       公布日  净资产收益率(加权)(%)          利润总额  基本每股收益  \\\n",
      "9  SZ002333     *ST罗普  20190413         -10.42 -1.485076e+08   -0.29   \n",
      "\n",
      "   归属于母公司所有者净利润   归属母公司股东权益合计       截止日  每股净资产           股本          营业利润  \\\n",
      "9 -1.457068e+08  1.325490e+09  20181231   2.64  502603600.0 -1.472438e+08   \n",
      "\n",
      "          营业总收入          资产总计  \n",
      "9  1.102974e+09  1.827665e+09  \n",
      "    StockID StockName       公布日  净资产收益率(加权)(%)         利润总额  基本每股收益  \\\n",
      "8  SZ002333     *ST罗普  20180210          -2.34 -24050141.42 -0.0707   \n",
      "\n",
      "   归属于母公司所有者净利润   归属母公司股东权益合计       截止日  每股净资产           股本         营业利润  \\\n",
      "8  -35542737.48  1.474099e+09  20171231   2.93  502603600.0 -69322837.57   \n",
      "\n",
      "          营业总收入          资产总计  \n",
      "8  1.027657e+09  1.622003e+09  \n"
     ]
    }
   ],
   "source": [
    "data1 = kb[kb[\"截止日\"] == 20181231]\n",
    "data2 = kb[kb[\"截止日\"] == 20171231]\n",
    "li_st = []\n",
    "li_st = list(set(data1[data1[\"归属于母公司所有者净利润\"]<0][\"StockID\"]) & set(data2[data2[\"归属于母公司所有者净利润\"]<0][\"StockID\"]))\n",
    "li_st1 = []\n",
    "for i in li_st:\n",
    "    if i[2:5] != \"300\":\n",
    "        li_st1.append(i)\n",
    "print(data1[data1['StockID']=='SZ002333'])    \n",
    "print(data2[data2[\"StockID\"]=='SZ002333']) "
   ]
  },
  {
   "cell_type": "code",
   "execution_count": 4,
   "metadata": {},
   "outputs": [
    {
     "name": "stdout",
     "output_type": "stream",
     "text": [
      "{'SH600485', 'SZ002175', 'SZ002684', 'SH600666', 'SZ002072', 'SZ002642', 'SZ002089', 'SZ002333', 'SH600815', 'SZ002629'}\n",
      "     StockID StockName       公布日 备注       截止日  比上年同期增长上限(%)  比上年同期增长下限(%)  \\\n",
      "31  SZ002333     *ST罗普  20190131     20181231      120.5355      100.0000   \n",
      "27  SZ002333     *ST罗普  20171031     20171231     -114.2023     -124.8541   \n",
      "\n",
      "   比上年同期增长数据来源  盈利金额上限  盈利金额下限 盈利金额单位                预警内容 预警类型  \\\n",
      "31        天软计算   800.0     0.0     万元      净利润盈利0万元-800万元   预盈   \n",
      "27        天软计算 -2000.0 -3500.0     万元  净利润亏损2000万元-3500万元   预亏   \n",
      "\n",
      "                                                 预警详情  \n",
      "31  1、报告期末公司出售全资子公司苏州铭德铝业有限公司、苏州铭镌精密金属制品有限公司，剥离亏损且...  \n",
      "27     公司老厂区搬迁工作已于2016年完成，2017年度内公司可确认的搬迁补偿较去年同期大幅减少。  \n"
     ]
    }
   ],
   "source": [
    "ST = pd.read_csv(\"C:\\\\Users\\\\win\\\\Desktop\\\\ST.csv\", encoding=\"utf-8\")\n",
    "data1 = yb[yb[\"截止日\"] == 20181231]\n",
    "data2 = yb[yb[\"截止日\"] == 20171231]\n",
    "li_st = []\n",
    "li_st = list(set(data1[data1[\"预警类型\"].isin([\"预亏\", \"增亏\", \"减亏\", \"预警\"])][\"StockID\"]) & set(data2[data2[\"预警类型\"].isin([\"预亏\", \"增亏\", \"减亏\", \"预警\"])][\"StockID\"]))\n",
    "print(set(ST[\"StockID\"]) - set(li_st))\n",
    "print(pd.concat([data1[data1[\"StockID\"] == 'SZ002333'], data2[data2[\"StockID\"] == 'SZ002333']]))\n"
   ]
  },
  {
   "cell_type": "code",
   "execution_count": 12,
   "metadata": {},
   "outputs": [
    {
     "data": {
      "image/png": "[encoded data removed]",
      "text/plain": [
       "<Figure size 1080x432 with 1 Axes>"
      ]
     },
     "metadata": {
      "needs_background": "light"
     },
     "output_type": "display_data"
    },
    {
     "name": "stdout",
     "output_type": "stream",
     "text": [
      "           公布日    StockID  StockName         备注        截止日  比上年同期增长上限(%)  \\\n",
      "0   2001-01-31   1.000000   1.000000   1.000000   1.000000      1.000000   \n",
      "1   2001-02-28        NaN        NaN        NaN        NaN           NaN   \n",
      "2   2001-03-31        NaN        NaN        NaN        NaN           NaN   \n",
      "3   2001-04-30        NaN        NaN        NaN        NaN           NaN   \n",
      "4   2001-05-31        NaN        NaN        NaN        NaN           NaN   \n",
      "..         ...        ...        ...        ...        ...           ...   \n",
      "224 2019-09-30   1.466667   1.466667   1.466667   1.466667      1.466667   \n",
      "225 2019-10-31  83.285714  83.285714  83.285714  83.285714     83.285714   \n",
      "226 2019-11-30   1.222222   1.222222   1.222222   1.222222      1.222222   \n",
      "227 2019-12-31   1.357143   1.357143   1.357143   1.357143      1.357143   \n",
      "228 2020-01-31   4.750000   4.750000   4.750000   4.750000      4.750000   \n",
      "\n",
      "     比上年同期增长下限(%)  比上年同期增长数据来源     盈利金额上限     盈利金额下限     盈利金额单位       预警内容  \\\n",
      "0        1.000000     1.000000   1.000000   1.000000   1.000000   1.000000   \n",
      "1             NaN          NaN        NaN        NaN        NaN        NaN   \n",
      "2             NaN          NaN        NaN        NaN        NaN        NaN   \n",
      "3             NaN          NaN        NaN        NaN        NaN        NaN   \n",
      "4             NaN          NaN        NaN        NaN        NaN        NaN   \n",
      "..            ...          ...        ...        ...        ...        ...   \n",
      "224      1.466667     1.466667   1.466667   1.466667   1.466667   1.466667   \n",
      "225     83.285714    83.285714  83.285714  83.285714  83.285714  83.285714   \n",
      "226      1.222222     1.222222   1.222222   1.222222   1.222222   1.222222   \n",
      "227      1.357143     1.357143   1.357143   1.357143   1.357143   1.357143   \n",
      "228      4.750000     4.750000   4.750000   4.750000   4.750000   4.750000   \n",
      "\n",
      "          预警类型       预警详情  \n",
      "0     1.000000   1.000000  \n",
      "1          NaN        NaN  \n",
      "2          NaN        NaN  \n",
      "3          NaN        NaN  \n",
      "4          NaN        NaN  \n",
      "..         ...        ...  \n",
      "224   1.466667   1.466667  \n",
      "225  83.285714  83.285714  \n",
      "226   1.222222   1.222222  \n",
      "227   1.357143   1.357143  \n",
      "228   4.750000   4.750000  \n",
      "\n",
      "[229 rows x 14 columns]\n"
     ]
    }
   ],
   "source": [
    "import datetime\n",
    "md = yb\n",
    "md[\"公布日\"] = md[\"公布日\"].apply(lambda x: str(x))\n",
    "md[\"公布日\"] = pd.to_datetime(md[\"公布日\"])\n",
    "md1 = md.groupby(\"公布日\").count().resample(\"M\").mean()\n",
    "md1 = md1.reset_index()\n",
    "mean = md.groupby(\"公布日\").count()[\"StockID\"].mean()\n",
    "fig, ax = plt.subplots(figsize=(15, 6))\n",
    "ax.bar(md1[\"公布日\"].values, md1[\"StockID\"].values)\n",
    "ax.xaxis_date()\n",
    "ax.set_title(\"Event distribution by month\")\n",
    "textstr = '\\n'.join((\n",
    "            r'Avg # Daily Event = %.2f' % mean,\n",
    "        ), )\n",
    "props = dict(facecolor='red', alpha=0.25, pad=10)\n",
    "ax.text(0.03, 0.9, textstr, transform=ax.transAxes, fontsize=10,\n",
    "                verticalalignment='top', bbox=props, horizontalalignment='left')\n",
    "ax.grid()\n",
    "plt.show()\n",
    "print(md1)"
   ]
  },
  {
   "cell_type": "code",
   "execution_count": 42,
   "metadata": {},
   "outputs": [
    {
     "data": {
      "text/plain": [
       "<matplotlib.axes._subplots.AxesSubplot at 0x1f49aaff588>"
      ]
     },
     "execution_count": 42,
     "metadata": {},
     "output_type": "execute_result"
    },
    {
     "data": {
      "image/png": "[encoded data removed]",
      "text/plain": [
       "<Figure size 432x288 with 1 Axes>"
      ]
     },
     "metadata": {
      "needs_background": "light"
     },
     "output_type": "display_data"
    }
   ],
   "source": [
    "yb[\"types\"] = np.nan\n",
    "yb.loc[yb[\"预警类型\"].isin([\"预增\",\"预盈\",\"减亏\"]), \"types\"] = \"Good\"\n",
    "yb.loc[yb[\"预警类型\"].isin([\"预减\",\"预亏\",\"增亏\"]), \"types\"] = \"Bad\"\n",
    "yb.loc[yb[\"预警类型\"].isin([\"预平\",\"预警\"]), \"types\"] = \"Not Sure\"\n",
    "new = yb.groupby([\"公布日\",\"types\"]).count().reset_index()\n",
    "new.rename(columns={\"公布日\":\"Year\"}, inplace=True)\n",
    "new.index = new[\"Year\"]\n",
    "new = new.groupby(\"types\").resample(\"Y\").sum().reset_index()\n",
    "new[\"Year\"] = new[\"Year\"].dt.year\n",
    "new\n",
    "sns.barplot(x=\"Year\", hue=\"types\", y=\"StockID\", data=new)\n",
    "\n"
   ]
  },
  {
   "cell_type": "code",
   "execution_count": null,
   "metadata": {},
   "outputs": [],
   "source": []
  },
  {
   "cell_type": "code",
   "execution_count": null,
   "metadata": {},
   "outputs": [],
   "source": []
  },
  {
   "cell_type": "code",
   "execution_count": null,
   "metadata": {},
   "outputs": [],
   "source": []
  }
 ],
 "metadata": {
  "kernelspec": {
   "display_name": "Python 3",
   "language": "python",
   "name": "python3"
  },
  "language_info": {
   "codemirror_mode": {
    "name": "ipython",
    "version": 3
   },
   "file_extension": ".py",
   "mimetype": "text/x-python",
   "name": "python",
   "nbconvert_exporter": "python",
   "pygments_lexer": "ipython3",
   "version": "3.7.4"
  }
 },
 "nbformat": 4,
 "nbformat_minor": 2
}
