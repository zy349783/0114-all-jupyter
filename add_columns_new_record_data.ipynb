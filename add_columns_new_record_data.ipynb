{
 "cells": [
  {
   "cell_type": "code",
   "execution_count": 1,
   "metadata": {
    "scrolled": true
   },
   "outputs": [],
   "source": [
    "import pandas as pd\n",
    "import numpy as np\n",
    "import pickle\n",
    "\n",
    "fr = pd.read_pickle(r'G:\\2020_new_data.pkl')"
   ]
  },
  {
   "cell_type": "code",
   "execution_count": 10,
   "metadata": {},
   "outputs": [
    {
     "data": {
      "text/html": [
       "<div>\n",
       "<style scoped>\n",
       "    .dataframe tbody tr th:only-of-type {\n",
       "        vertical-align: middle;\n",
       "    }\n",
       "\n",
       "    .dataframe tbody tr th {\n",
       "        vertical-align: top;\n",
       "    }\n",
       "\n",
       "    .dataframe thead th {\n",
       "        text-align: right;\n",
       "    }\n",
       "</style>\n",
       "<table border=\"1\" class=\"dataframe\">\n",
       "  <thead>\n",
       "    <tr style=\"text-align: right;\">\n",
       "      <th></th>\n",
       "      <th>SecurityID</th>\n",
       "      <th>StockID</th>\n",
       "      <th>clockAtArrival_y</th>\n",
       "      <th>count</th>\n",
       "      <th>seq1</th>\n",
       "      <th>sequenceNo_x</th>\n",
       "      <th>sequenceNo_y</th>\n",
       "      <th>tag</th>\n",
       "    </tr>\n",
       "  </thead>\n",
       "  <tbody>\n",
       "  </tbody>\n",
       "</table>\n",
       "</div>"
      ],
      "text/plain": [
       "Empty DataFrame\n",
       "Columns: [SecurityID, StockID, clockAtArrival_y, count, seq1, sequenceNo_x, sequenceNo_y, tag]\n",
       "Index: []"
      ]
     },
     "execution_count": 10,
     "metadata": {},
     "output_type": "execute_result"
    }
   ],
   "source": [
    "fr[fr['tag'] == 'order'][fr[fr['tag'] == 'order']['sequenceNo_x'].duplicated(keep=False)]"
   ]
  },
  {
   "cell_type": "code",
   "execution_count": 21,
   "metadata": {},
   "outputs": [],
   "source": [
    "import pandas as pd\n",
    "import numpy as np\n",
    "import pickle\n",
    "\n",
    "SZ = pd.read_csv(r'A:\\temp\\pcapRawData\\prevde\\L2NGTSIndex.csv', index_col=False)\n",
    "pd.set_option('max_columns', 300)\n",
    "pd.set_option('max_rows', 200)"
   ]
  },
  {
   "cell_type": "code",
   "execution_count": 22,
   "metadata": {},
   "outputs": [
    {
     "data": {
      "text/html": [
       "<div>\n",
       "<style scoped>\n",
       "    .dataframe tbody tr th:only-of-type {\n",
       "        vertical-align: middle;\n",
       "    }\n",
       "\n",
       "    .dataframe tbody tr th {\n",
       "        vertical-align: top;\n",
       "    }\n",
       "\n",
       "    .dataframe thead th {\n",
       "        text-align: right;\n",
       "    }\n",
       "</style>\n",
       "<table border=\"1\" class=\"dataframe\">\n",
       "  <thead>\n",
       "    <tr style=\"text-align: right;\">\n",
       "      <th></th>\n",
       "      <th>clockAtArrival</th>\n",
       "      <th>sequenceNo</th>\n",
       "      <th>vdeSequence</th>\n",
       "      <th>VdeTime1</th>\n",
       "      <th>VdeTime2</th>\n",
       "      <th>DataTimestamp</th>\n",
       "      <th>DataStatus</th>\n",
       "      <th>SecurityID</th>\n",
       "      <th>PreCloseIndex</th>\n",
       "      <th>OpenIndex</th>\n",
       "      <th>Turnover</th>\n",
       "      <th>HighIndex</th>\n",
       "      <th>LowIndex</th>\n",
       "      <th>LastIndex</th>\n",
       "      <th>TradeTime</th>\n",
       "      <th>TotalVolumeTraded</th>\n",
       "      <th>CloseIndex</th>\n",
       "    </tr>\n",
       "  </thead>\n",
       "  <tbody>\n",
       "    <tr>\n",
       "      <td>29512</td>\n",
       "      <td>1589938203000106261</td>\n",
       "      <td>666330</td>\n",
       "      <td>2040201216</td>\n",
       "      <td>3890546946</td>\n",
       "      <td>3890546946</td>\n",
       "      <td>93003</td>\n",
       "      <td>NaN</td>\n",
       "      <td>16</td>\n",
       "      <td>NaN</td>\n",
       "      <td>NaN</td>\n",
       "      <td>4.225557e+09</td>\n",
       "      <td>NaN</td>\n",
       "      <td>286076920.0</td>\n",
       "      <td>286106910.0</td>\n",
       "      <td>9300174.0</td>\n",
       "      <td>2.172550e+10</td>\n",
       "      <td>NaN</td>\n",
       "    </tr>\n",
       "    <tr>\n",
       "      <td>29707</td>\n",
       "      <td>1589938208000198456</td>\n",
       "      <td>703948</td>\n",
       "      <td>1167982592</td>\n",
       "      <td>1358498050</td>\n",
       "      <td>1358498050</td>\n",
       "      <td>93008</td>\n",
       "      <td>NaN</td>\n",
       "      <td>16</td>\n",
       "      <td>NaN</td>\n",
       "      <td>NaN</td>\n",
       "      <td>5.281850e+09</td>\n",
       "      <td>NaN</td>\n",
       "      <td>286001870.0</td>\n",
       "      <td>286001870.0</td>\n",
       "      <td>9300568.0</td>\n",
       "      <td>2.683380e+10</td>\n",
       "      <td>NaN</td>\n",
       "    </tr>\n",
       "    <tr>\n",
       "      <td>29924</td>\n",
       "      <td>1589938213000160273</td>\n",
       "      <td>740714</td>\n",
       "      <td>1084293120</td>\n",
       "      <td>856492546</td>\n",
       "      <td>856492546</td>\n",
       "      <td>93013</td>\n",
       "      <td>NaN</td>\n",
       "      <td>16</td>\n",
       "      <td>NaN</td>\n",
       "      <td>NaN</td>\n",
       "      <td>5.844771e+09</td>\n",
       "      <td>NaN</td>\n",
       "      <td>NaN</td>\n",
       "      <td>286061560.0</td>\n",
       "      <td>9301166.0</td>\n",
       "      <td>3.003810e+10</td>\n",
       "      <td>NaN</td>\n",
       "    </tr>\n",
       "    <tr>\n",
       "      <td>30160</td>\n",
       "      <td>1589938218000132116</td>\n",
       "      <td>778248</td>\n",
       "      <td>2175008768</td>\n",
       "      <td>2652899842</td>\n",
       "      <td>2652899842</td>\n",
       "      <td>93018</td>\n",
       "      <td>NaN</td>\n",
       "      <td>16</td>\n",
       "      <td>NaN</td>\n",
       "      <td>NaN</td>\n",
       "      <td>6.284577e+09</td>\n",
       "      <td>NaN</td>\n",
       "      <td>NaN</td>\n",
       "      <td>286041210.0</td>\n",
       "      <td>9301679.0</td>\n",
       "      <td>3.253250e+10</td>\n",
       "      <td>NaN</td>\n",
       "    </tr>\n",
       "    <tr>\n",
       "      <td>30348</td>\n",
       "      <td>1589938223000096871</td>\n",
       "      <td>814936</td>\n",
       "      <td>531103744</td>\n",
       "      <td>120850946</td>\n",
       "      <td>120850946</td>\n",
       "      <td>93023</td>\n",
       "      <td>NaN</td>\n",
       "      <td>16</td>\n",
       "      <td>NaN</td>\n",
       "      <td>NaN</td>\n",
       "      <td>6.591641e+09</td>\n",
       "      <td>NaN</td>\n",
       "      <td>NaN</td>\n",
       "      <td>286024400.0</td>\n",
       "      <td>9302066.0</td>\n",
       "      <td>3.452330e+10</td>\n",
       "      <td>NaN</td>\n",
       "    </tr>\n",
       "  </tbody>\n",
       "</table>\n",
       "</div>"
      ],
      "text/plain": [
       "            clockAtArrival  sequenceNo  vdeSequence    VdeTime1    VdeTime2  \\\n",
       "29512  1589938203000106261      666330   2040201216  3890546946  3890546946   \n",
       "29707  1589938208000198456      703948   1167982592  1358498050  1358498050   \n",
       "29924  1589938213000160273      740714   1084293120   856492546   856492546   \n",
       "30160  1589938218000132116      778248   2175008768  2652899842  2652899842   \n",
       "30348  1589938223000096871      814936    531103744   120850946   120850946   \n",
       "\n",
       "       DataTimestamp  DataStatus  SecurityID  PreCloseIndex  OpenIndex  \\\n",
       "29512          93003         NaN          16            NaN        NaN   \n",
       "29707          93008         NaN          16            NaN        NaN   \n",
       "29924          93013         NaN          16            NaN        NaN   \n",
       "30160          93018         NaN          16            NaN        NaN   \n",
       "30348          93023         NaN          16            NaN        NaN   \n",
       "\n",
       "           Turnover  HighIndex     LowIndex    LastIndex  TradeTime  \\\n",
       "29512  4.225557e+09        NaN  286076920.0  286106910.0  9300174.0   \n",
       "29707  5.281850e+09        NaN  286001870.0  286001870.0  9300568.0   \n",
       "29924  5.844771e+09        NaN          NaN  286061560.0  9301166.0   \n",
       "30160  6.284577e+09        NaN          NaN  286041210.0  9301679.0   \n",
       "30348  6.591641e+09        NaN          NaN  286024400.0  9302066.0   \n",
       "\n",
       "       TotalVolumeTraded  CloseIndex  \n",
       "29512       2.172550e+10         NaN  \n",
       "29707       2.683380e+10         NaN  \n",
       "29924       3.003810e+10         NaN  \n",
       "30160       3.253250e+10         NaN  \n",
       "30348       3.452330e+10         NaN  "
      ]
     },
     "execution_count": 22,
     "metadata": {},
     "output_type": "execute_result"
    }
   ],
   "source": [
    "SZ[(SZ['SecurityID'] == 16) & (SZ['DataTimestamp'] > 93000.0)].head(5)"
   ]
  },
  {
   "cell_type": "code",
   "execution_count": 28,
   "metadata": {},
   "outputs": [
    {
     "data": {
      "text/plain": [
       "1994922900000.0"
      ]
     },
     "execution_count": 28,
     "metadata": {},
     "output_type": "execute_result"
    }
   ],
   "source": [
    "SZ[(SZ['SecurityID'] == 16)]['TotalVolumeTraded'].max()"
   ]
  },
  {
   "cell_type": "code",
   "execution_count": 29,
   "metadata": {},
   "outputs": [
    {
     "data": {
      "text/plain": [
       "375613485000.0"
      ]
     },
     "execution_count": 29,
     "metadata": {},
     "output_type": "execute_result"
    }
   ],
   "source": [
    "SZ[(SZ['SecurityID'] == 16)]['Turnover'].max()"
   ]
  },
  {
   "cell_type": "code",
   "execution_count": 27,
   "metadata": {},
   "outputs": [
    {
     "data": {
      "text/plain": [
       "284725530.0"
      ]
     },
     "execution_count": 27,
     "metadata": {},
     "output_type": "execute_result"
    }
   ],
   "source": [
    "SZ[(SZ['SecurityID'] == 16) & (SZ['LowIndex'] != 0)]['LowIndex'].min()"
   ]
  },
  {
   "cell_type": "code",
   "execution_count": 19,
   "metadata": {},
   "outputs": [
    {
     "data": {
      "text/plain": [
       "array([102], dtype=int64)"
      ]
     },
     "execution_count": 19,
     "metadata": {},
     "output_type": "execute_result"
    }
   ],
   "source": [
    "SZ['SecurityIDSource'].unique()"
   ]
  },
  {
   "cell_type": "code",
   "execution_count": 13,
   "metadata": {},
   "outputs": [
    {
     "data": {
      "text/plain": [
       "300832"
      ]
     },
     "execution_count": 13,
     "metadata": {},
     "output_type": "execute_result"
    }
   ],
   "source": [
    "SZ[SZ['MDStreamID'] == 11]['SecurityID'].max()"
   ]
  },
  {
   "cell_type": "code",
   "execution_count": 8,
   "metadata": {
    "scrolled": true
   },
   "outputs": [
    {
     "data": {
      "text/html": [
       "<div>\n",
       "<style scoped>\n",
       "    .dataframe tbody tr th:only-of-type {\n",
       "        vertical-align: middle;\n",
       "    }\n",
       "\n",
       "    .dataframe tbody tr th {\n",
       "        vertical-align: top;\n",
       "    }\n",
       "\n",
       "    .dataframe thead th {\n",
       "        text-align: right;\n",
       "    }\n",
       "</style>\n",
       "<table border=\"1\" class=\"dataframe\">\n",
       "  <thead>\n",
       "    <tr style=\"text-align: right;\">\n",
       "      <th></th>\n",
       "      <th>clockAtArrival</th>\n",
       "      <th>sequenceNo</th>\n",
       "      <th>exchId</th>\n",
       "      <th>securityType</th>\n",
       "      <th>__isRepeated</th>\n",
       "      <th>TransactTime</th>\n",
       "      <th>ChannelNo</th>\n",
       "      <th>ApplSeqNum</th>\n",
       "      <th>SecurityID</th>\n",
       "      <th>secid</th>\n",
       "      <th>mdSource</th>\n",
       "      <th>ExecType</th>\n",
       "      <th>TradeBSFlag</th>\n",
       "      <th>__origTickSeq</th>\n",
       "      <th>TradePrice</th>\n",
       "      <th>TradeQty</th>\n",
       "      <th>TradeMoney</th>\n",
       "      <th>BidApplSeqNum</th>\n",
       "      <th>OfferApplSeqNum</th>\n",
       "    </tr>\n",
       "  </thead>\n",
       "  <tbody>\n",
       "    <tr>\n",
       "      <td>302102</td>\n",
       "      <td>1589938218691994</td>\n",
       "      <td>1959691</td>\n",
       "      <td>1</td>\n",
       "      <td>1</td>\n",
       "      <td>0</td>\n",
       "      <td>93000140</td>\n",
       "      <td>5</td>\n",
       "      <td>16053</td>\n",
       "      <td>600000</td>\n",
       "      <td>1600000</td>\n",
       "      <td>4</td>\n",
       "      <td>F</td>\n",
       "      <td>S</td>\n",
       "      <td>7499788</td>\n",
       "      <td>103600</td>\n",
       "      <td>200</td>\n",
       "      <td>20720000</td>\n",
       "      <td>9021</td>\n",
       "      <td>163190</td>\n",
       "    </tr>\n",
       "    <tr>\n",
       "      <td>302103</td>\n",
       "      <td>1589938218691995</td>\n",
       "      <td>1959692</td>\n",
       "      <td>1</td>\n",
       "      <td>1</td>\n",
       "      <td>0</td>\n",
       "      <td>93000140</td>\n",
       "      <td>5</td>\n",
       "      <td>16054</td>\n",
       "      <td>600000</td>\n",
       "      <td>1600000</td>\n",
       "      <td>4</td>\n",
       "      <td>F</td>\n",
       "      <td>S</td>\n",
       "      <td>7499789</td>\n",
       "      <td>103600</td>\n",
       "      <td>100</td>\n",
       "      <td>10360000</td>\n",
       "      <td>43697</td>\n",
       "      <td>163190</td>\n",
       "    </tr>\n",
       "    <tr>\n",
       "      <td>302104</td>\n",
       "      <td>1589938218691997</td>\n",
       "      <td>1959693</td>\n",
       "      <td>1</td>\n",
       "      <td>1</td>\n",
       "      <td>0</td>\n",
       "      <td>93000140</td>\n",
       "      <td>5</td>\n",
       "      <td>16055</td>\n",
       "      <td>600000</td>\n",
       "      <td>1600000</td>\n",
       "      <td>4</td>\n",
       "      <td>F</td>\n",
       "      <td>S</td>\n",
       "      <td>7499790</td>\n",
       "      <td>103600</td>\n",
       "      <td>700</td>\n",
       "      <td>72520000</td>\n",
       "      <td>149888</td>\n",
       "      <td>163190</td>\n",
       "    </tr>\n",
       "    <tr>\n",
       "      <td>325076</td>\n",
       "      <td>1589938219168928</td>\n",
       "      <td>2026164</td>\n",
       "      <td>1</td>\n",
       "      <td>1</td>\n",
       "      <td>0</td>\n",
       "      <td>93000290</td>\n",
       "      <td>5</td>\n",
       "      <td>16590</td>\n",
       "      <td>600000</td>\n",
       "      <td>1600000</td>\n",
       "      <td>4</td>\n",
       "      <td>F</td>\n",
       "      <td>B</td>\n",
       "      <td>7570564</td>\n",
       "      <td>103700</td>\n",
       "      <td>2400</td>\n",
       "      <td>248880000</td>\n",
       "      <td>164466</td>\n",
       "      <td>134993</td>\n",
       "    </tr>\n",
       "    <tr>\n",
       "      <td>335066</td>\n",
       "      <td>1589938219295376</td>\n",
       "      <td>2047934</td>\n",
       "      <td>1</td>\n",
       "      <td>1</td>\n",
       "      <td>0</td>\n",
       "      <td>93000390</td>\n",
       "      <td>5</td>\n",
       "      <td>17068</td>\n",
       "      <td>600000</td>\n",
       "      <td>1600000</td>\n",
       "      <td>4</td>\n",
       "      <td>F</td>\n",
       "      <td>B</td>\n",
       "      <td>7593913</td>\n",
       "      <td>103700</td>\n",
       "      <td>2400</td>\n",
       "      <td>248880000</td>\n",
       "      <td>166002</td>\n",
       "      <td>134993</td>\n",
       "    </tr>\n",
       "  </tbody>\n",
       "</table>\n",
       "</div>"
      ],
      "text/plain": [
       "          clockAtArrival  sequenceNo  exchId  securityType  __isRepeated  \\\n",
       "302102  1589938218691994     1959691       1             1             0   \n",
       "302103  1589938218691995     1959692       1             1             0   \n",
       "302104  1589938218691997     1959693       1             1             0   \n",
       "325076  1589938219168928     2026164       1             1             0   \n",
       "335066  1589938219295376     2047934       1             1             0   \n",
       "\n",
       "        TransactTime  ChannelNo  ApplSeqNum  SecurityID    secid  mdSource  \\\n",
       "302102      93000140          5       16053      600000  1600000         4   \n",
       "302103      93000140          5       16054      600000  1600000         4   \n",
       "302104      93000140          5       16055      600000  1600000         4   \n",
       "325076      93000290          5       16590      600000  1600000         4   \n",
       "335066      93000390          5       17068      600000  1600000         4   \n",
       "\n",
       "       ExecType TradeBSFlag  __origTickSeq  TradePrice  TradeQty  TradeMoney  \\\n",
       "302102        F           S        7499788      103600       200    20720000   \n",
       "302103        F           S        7499789      103600       100    10360000   \n",
       "302104        F           S        7499790      103600       700    72520000   \n",
       "325076        F           B        7570564      103700      2400   248880000   \n",
       "335066        F           B        7593913      103700      2400   248880000   \n",
       "\n",
       "        BidApplSeqNum  OfferApplSeqNum  \n",
       "302102           9021           163190  \n",
       "302103          43697           163190  \n",
       "302104         149888           163190  \n",
       "325076         164466           134993  \n",
       "335066         166002           134993  "
      ]
     },
     "execution_count": 8,
     "metadata": {},
     "output_type": "execute_result"
    }
   ],
   "source": [
    "SZ1 = pd.read_csv(r'L:\\ShareWithServer\\data\\logs_20200520_zs_92_01_day_data\\mdTradeLog_20200520_0857.csv')\n",
    "SZ1[(SZ1['SecurityID'] == 600000) & (SZ1['TransactTime'] > 93000000)].head(5)"
   ]
  },
  {
   "cell_type": "code",
   "execution_count": 35,
   "metadata": {},
   "outputs": [
    {
     "data": {
      "text/plain": [
       "array([1, 2, 6], dtype=int64)"
      ]
     },
     "execution_count": 35,
     "metadata": {},
     "output_type": "execute_result"
    }
   ],
   "source": [
    "SZ1['cum_amount'].astype(str).apply(lambda x: len(x.split('.')[1])).unique()"
   ]
  }
 ],
 "metadata": {
  "kernelspec": {
   "display_name": "Python 3",
   "language": "python",
   "name": "python3"
  },
  "language_info": {
   "codemirror_mode": {
    "name": "ipython",
    "version": 3
   },
   "file_extension": ".py",
   "mimetype": "text/x-python",
   "name": "python",
   "nbconvert_exporter": "python",
   "pygments_lexer": "ipython3",
   "version": "3.7.4"
  }
 },
 "nbformat": 4,
 "nbformat_minor": 2
}
