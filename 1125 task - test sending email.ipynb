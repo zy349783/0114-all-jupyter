{
 "cells": [
  {
   "cell_type": "code",
   "execution_count": 1,
   "metadata": {},
   "outputs": [
    {
     "name": "stdout",
     "output_type": "stream",
     "text": [
      "<table border=\"1\" class=\"dataframe\">\n",
      "  <thead>\n",
      "    <tr style=\"text-align: right;\">\n",
      "      <th>日期</th>\n",
      "      <th>姓名</th>\n",
      "    </tr>\n",
      "  </thead>\n",
      "  <tbody>\n",
      "    <tr>\n",
      "      <td>2016-08-25</td>\n",
      "      <td>张三</td>\n",
      "    </tr>\n",
      "    <tr>\n",
      "      <td>2016-08-26</td>\n",
      "      <td>李四</td>\n",
      "    </tr>\n",
      "    <tr>\n",
      "      <td>2016-08-27</td>\n",
      "      <td>王二</td>\n",
      "    </tr>\n",
      "  </tbody>\n",
      "</table>\n",
      "smtp server connected\n",
      "login\n",
      "send mail\n"
     ]
    }
   ],
   "source": [
    "import smtplib\n",
    "from email.mime.text import MIMEText\n",
    "from email.mime.multipart import MIMEMultipart\n",
    "\n",
    "def sendMail(title, body):\n",
    "    smtp_server = '42.120.226.4' # 'smtp.mxhichina.com'\n",
    "    user = 'zhenyu.yin@general-int.com'\n",
    "    passwd = 'Yqzy0063!'\n",
    "    from_addr = 'zhenyu.yin@general-int.com'\n",
    "    to_addr = ['zhenyu.yin@general-int.com']\n",
    "\n",
    "    msg = MIMEMultipart()\n",
    "    msg['From'] = from_addr\n",
    "    msg['To'] = ', '.join(to_addr)\n",
    "    msg['Subject'] = title\n",
    "    txt = MIMEText(body, _subtype='html', _charset='UTF-8')\n",
    "    msg.attach(txt)\n",
    "\n",
    "    smtp = None\n",
    "    while True:\n",
    "        try:\n",
    "            smtp = smtplib.SMTP(smtp_server)\n",
    "            print('smtp server connected')\n",
    "            smtp.login(user, passwd)\n",
    "            print('login')\n",
    "            break\n",
    "        except Exception as e:\n",
    "            print(e)\n",
    "    print('send mail')\n",
    "    smtp.sendmail(from_addr, to_addr, msg.as_string())\n",
    "    smtp.quit()\n",
    "\n",
    "import pandas as pd\n",
    "def convertToHtml(result,title):\n",
    "    d = {}\n",
    "    index = 0\n",
    "    for t in title:\n",
    "        d[t]=result[index]\n",
    "        index = index+1\n",
    "    df = pd.DataFrame(d)\n",
    "    df = df[title]\n",
    "    h = df.to_html(index=False)\n",
    "    return h\n",
    "\n",
    "result = [['2016-08-25','2016-08-26','2016-08-27'],['张三','李四','王二']]\n",
    "title = ['日期','姓名']\n",
    "print(convertToHtml(result,title))\n",
    "    \n",
    "sendMail(\"test title\", '<html><body><div>Hi all,<div>The following is daily report based on 20201123 \\\n",
    "         data.<p><b>1. Assertions</b></p>' + convertToHtml(result,title) + \"</div></body></html>\")"
   ]
  }
 ],
 "metadata": {
  "kernelspec": {
   "display_name": "Python 3",
   "language": "python",
   "name": "python3"
  },
  "language_info": {
   "codemirror_mode": {
    "name": "ipython",
    "version": 3
   },
   "file_extension": ".py",
   "mimetype": "text/x-python",
   "name": "python",
   "nbconvert_exporter": "python",
   "pygments_lexer": "ipython3",
   "version": "3.7.4"
  }
 },
 "nbformat": 4,
 "nbformat_minor": 2
}
