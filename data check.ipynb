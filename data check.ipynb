{
 "cells": [
  {
   "cell_type": "code",
   "execution_count": 85,
   "metadata": {},
   "outputs": [
    {
     "name": "stdout",
     "output_type": "stream",
     "text": [
      "62846\n",
      "62363\n",
      "6310\n",
      "        StockID StockName       公布日 备注       截止日  比上年同期增长上限(%)  比上年同期增长下限(%)  \\\n",
      "28804  SZ002359     *ST北讯  20190427     20181231     -575.4646     -813.1968   \n",
      "35221  SZ002565      顺灏股份  20150425     20141231     -119.3500     -125.0600   \n",
      "\n",
      "      比上年同期增长数据来源     盈利金额上限     盈利金额下限  ...  \\\n",
      "28804        天软计算 -103475.97 -155213.95  ...   \n",
      "35221       公告中公布   -4435.45   -5745.00  ...   \n",
      "\n",
      "                                                    预警详情 types INITIAL_ID  \\\n",
      "28804  1、公司债务逾期导致诉讼事项及公司银行账户被冻结，对公司的正常运行、经营管理造成了一定的不利...   Bad   106674.0   \n",
      "35221  造成2014年年度业绩预告出现差异的主要原因，由于公司发现控股子公司浙江德美彩印有限公司(以...   Bad    43718.0   \n",
      "\n",
      "      publish_date  end_date  n_income_surprise  notice_type  pred_spec_ret  \\\n",
      "28804     20181022  20181231           1.111208         盈利增加       0.000627   \n",
      "35221     20141020  20141231           0.850779         盈利增加      -0.004492   \n",
      "\n",
      "       pred_group notice_type_combine  \n",
      "28804         2.0                  预喜  \n",
      "35221         3.0                  预喜  \n",
      "\n",
      "[2 rows x 23 columns]\n",
      "        StockID StockName       公布日 备注       截止日  比上年同期增长上限(%)  比上年同期增长下限(%)  \\\n",
      "35320  SZ002568      百润股份  20171020     20171231      270.0427      202.0256   \n",
      "\n",
      "      比上年同期增长数据来源   盈利金额上限   盈利金额下限  ...  \\\n",
      "35320        天软计算  25000.0  15000.0  ...   \n",
      "\n",
      "                                                    预警详情 types INITIAL_ID  \\\n",
      "35320  公司预调鸡尾酒板块主营业务收入继续保持回升态势，公司将持续提高运营效率、优化渠道和产品结构，...  Good    98013.0   \n",
      "\n",
      "      publish_date  end_date  n_income_surprise  notice_type  pred_spec_ret  \\\n",
      "35320     20180314  20171231           0.873844         预计盈利       0.011552   \n",
      "\n",
      "       pred_group notice_type_combine  \n",
      "35320         4.0                  预喜  \n",
      "\n",
      "[1 rows x 23 columns]\n",
      "     StockID StockName       公布日 备注       截止日  比上年同期增长上限(%)  比上年同期增长下限(%)  \\\n",
      "23  SZ002568      百润股份  20171020     20171231      270.0427      202.0256   \n",
      "\n",
      "   比上年同期增长数据来源   盈利金额上限   盈利金额下限 盈利金额单位                  预警内容 预警类型  \\\n",
      "23        天软计算  25000.0  15000.0     万元  净利润盈利15000万元-25000万元   预盈   \n",
      "\n",
      "                                                 预警详情 types  \n",
      "23  公司预调鸡尾酒板块主营业务收入继续保持回升态势，公司将持续提高运营效率、优化渠道和产品结构，...  Good  \n",
      "        StockID  INITIAL_ID  publish_date  end_date  n_income_surprise  \\\n",
      "40218  SZ002568     92358.0      20171019  20171231           0.396368   \n",
      "42853  SZ002568     98013.0      20180314  20171231           0.873844   \n",
      "\n",
      "      notice_type  pred_spec_ret  pred_group notice_type_combine  \n",
      "40218        预计盈利      -0.003821         2.0                  预喜  \n",
      "42853        预计盈利       0.011552         4.0                  预喜  \n"
     ]
    },
    {
     "data": {
      "image/png": "[encoded data removed]",
      "text/plain": [
       "<Figure size 432x288 with 1 Axes>"
      ]
     },
     "metadata": {
      "needs_background": "light"
     },
     "output_type": "display_data"
    },
    {
     "name": "stdout",
     "output_type": "stream",
     "text": [
      "56053\n",
      "count    56053.000000\n",
      "mean       294.827966\n",
      "std       1585.345103\n",
      "min      -9294.000000\n",
      "25%          1.000000\n",
      "50%          1.000000\n",
      "75%          1.000000\n",
      "max       9405.000000\n",
      "dtype: float64\n"
     ]
    }
   ],
   "source": [
    "import matplotlib.pyplot as plt\n",
    "import pandas as pd\n",
    "import numpy as np\n",
    "from pandas.plotting import register_matplotlib_converters\n",
    "register_matplotlib_converters()\n",
    "import pickle\n",
    "import seaborn as sns\n",
    "\n",
    "F1 = open(r'C:\\\\Users\\\\win\\\\Downloads\\\\FastFinancialReport.pkl', 'rb')\n",
    "F2 = open(r'C:\\\\Users\\\\win\\\\Downloads\\\\ForcastFinancialReport.pkl', 'rb')\n",
    "F3 = open(r'C:\\\\Users\\\\win\\\\Downloads\\\\event_1106.pkl', 'rb')\n",
    "kb = pickle.load(F1)\n",
    "yb = pickle.load(F2)\n",
    "bg = pickle.load(F3)\n",
    "yb = yb[yb[\"预警类型\"] != \"\"]\n",
    "types = yb[\"预警类型\"].unique()\n",
    "yb[\"types\"] = np.nan\n",
    "yb.loc[yb[\"预警类型\"].isin([\"预增\",\"预盈\",\"减亏\"]), \"types\"] = \"Good\"\n",
    "yb.loc[yb[\"预警类型\"].isin([\"预减\",\"预亏\",\"增亏\"]), \"types\"] = \"Bad\"\n",
    "yb.loc[yb[\"预警类型\"].isin([\"预平\",\"预警\"]), \"types\"] = \"Not Sure\"\n",
    "yb = yb[(yb[\"公布日\"] >= 20110103) & (yb[\"公布日\"] <= 20191224)]\n",
    "xx = pd.merge(yb, bg, left_on=[\"StockID\", \"截止日\"], right_on=[\"StockID\", \"end_date\"], how=\"outer\")\n",
    "print(len(xx))\n",
    "print(xx[\"StockName\"].count())\n",
    "print(len(xx[np.isnan(xx[\"INITIAL_ID\"])]))\n",
    "xx = pd.merge(yb, bg, left_on=[\"StockID\", \"截止日\"], right_on=[\"StockID\", \"end_date\"], how=\"inner\")\n",
    "diff = xx[\"公布日\"] - xx[\"publish_date\"]\n",
    "print(xx.loc[diff.index[diff == max(diff)], :])\n",
    "print(xx.loc[diff.index[diff == min(diff)], :])\n",
    "print(yb[(yb[\"截止日\"] == 20171231) & (yb[\"StockID\"] == \"SZ002568\")])\n",
    "print(bg[(bg[\"end_date\"] == 20171231) & (bg[\"StockID\"] == \"SZ002568\")])\n",
    "sns.distplot(diff.values, kde=False)\n",
    "plt.show()\n",
    "print(len(xx))\n",
    "print(diff.describe())"
   ]
  },
  {
   "cell_type": "code",
   "execution_count": 74,
   "metadata": {},
   "outputs": [
    {
     "data": {
      "text/plain": [
       "<matplotlib.axes._subplots.AxesSubplot at 0x29d54c6fc48>"
      ]
     },
     "execution_count": 74,
     "metadata": {},
     "output_type": "execute_result"
    },
    {
     "data": {
      "image/png": "[encoded data removed]",
      "text/plain": [
       "<Figure size 432x288 with 1 Axes>"
      ]
     },
     "metadata": {
      "needs_background": "light"
     },
     "output_type": "display_data"
    }
   ],
   "source": [
    "diff.hist()"
   ]
  }
 ],
 "metadata": {
  "kernelspec": {
   "display_name": "Python 3",
   "language": "python",
   "name": "python3"
  },
  "language_info": {
   "codemirror_mode": {
    "name": "ipython",
    "version": 3
   },
   "file_extension": ".py",
   "mimetype": "text/x-python",
   "name": "python",
   "nbconvert_exporter": "python",
   "pygments_lexer": "ipython3",
   "version": "3.7.4"
  }
 },
 "nbformat": 4,
 "nbformat_minor": 2
}
