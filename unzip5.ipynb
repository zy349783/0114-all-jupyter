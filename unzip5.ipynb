{
 "cells": [
  {
   "cell_type": "code",
   "execution_count": 1,
   "metadata": {
    "scrolled": true
   },
   "outputs": [
    {
     "name": "stdout",
     "output_type": "stream",
     "text": [
      "0:08:51.154028\n",
      "20200428 finished\n",
      "0:12:16.622077\n",
      "20200429 finished\n",
      "0:22:41.914030\n",
      "20200430 finished\n",
      "0:26:56.512445\n",
      "20200506 finished\n",
      "0:25:56.272999\n",
      "20200507 finished\n",
      "0:26:53.005206\n",
      "20200508 finished\n",
      "0:27:42.484817\n",
      "20200511 finished\n",
      "0:27:50.718785\n",
      "20200512 finished\n",
      "0:28:42.307754\n",
      "20200513 finished\n",
      "0:29:12.849035\n",
      "20200514 finished\n",
      "0:28:56.863807\n",
      "20200515 finished\n",
      "0:29:37.686580\n",
      "20200518 finished\n",
      "0:28:36.243982\n",
      "20200519 finished\n",
      "0:29:47.752205\n",
      "20200520 finished\n",
      "0:29:15.646551\n",
      "20200521 finished\n",
      "0:29:42.702160\n",
      "20200522 finished\n",
      "0:20:51.636093\n",
      "20200525 finished\n",
      "0:28:11.401447\n",
      "20200526 finished\n",
      "18\n",
      "[]\n",
      "[]\n"
     ]
    }
   ],
   "source": [
    "import pandas as pd\n",
    "import random\n",
    "import numpy as np\n",
    "import glob\n",
    "import os\n",
    "from unrar import rarfile\n",
    "import py7zr\n",
    "import pickle\n",
    "import datetime\n",
    "import time\n",
    "pd.set_option(\"max_columns\", 200)\n",
    "\n",
    "\n",
    "year = \"2020\"\n",
    "startDate = '20200428'\n",
    "endDate = '20200526'\n",
    "bad = []\n",
    "less = []\n",
    "readPath = 'K:\\\\data\\\\' + year + '\\\\***\\\\***'\n",
    "dataPathLs = np.array(glob.glob(readPath))\n",
    "dateLs = np.array([os.path.basename(i).split('_')[0] for i in dataPathLs])\n",
    "dataPathLs = dataPathLs[(dateLs >= startDate) & (dateLs <= endDate)]\n",
    "date_list = pd.read_csv(\"G:\\\\trading_days.csv\")\n",
    "l = []\n",
    "for data in dataPathLs:\n",
    "    if len(np.array(glob.glob(data + '\\\\SH\\\\***'))) == 0:\n",
    "        if int(os.path.basename(data)) not in date_list[\"Date\"].values:\n",
    "            continue\n",
    "        else:\n",
    "            print(os.path.basename(data) + \" less data!!!!!!!!!!!!!!!!!\")\n",
    "            less.append(data)\n",
    "            continue\n",
    "    \n",
    "    startTm = datetime.datetime.now()\n",
    "    date = os.path.basename(data)\n",
    "    exe_path = 'G:\\\\7z1900-extra\\\\7za.exe'\n",
    "    rar_path = data + '\\\\SH\\\\snapshot.7z'\n",
    "    path = 'L:\\\\DB\\\\' + year + '\\\\SH'\n",
    "    path1 = path + '\\\\' + date\n",
    "    un_path = path1\n",
    "    cmd = '{} x {} -o{} -aos -r'.format(exe_path, rar_path, un_path)\n",
    "    os.system(cmd)\n",
    "    \n",
    "    date = os.path.basename(data)\n",
    "    exe_path = 'G:\\\\7z1900-extra\\\\7za.exe'\n",
    "    rar_path = data + '\\\\SZ\\\\snapshot.7z'\n",
    "    path = 'L:\\\\DB\\\\' + year + '\\\\SZ'\n",
    "    path1 = path + '\\\\' + date\n",
    "    un_path = path1\n",
    "    cmd = '{} x {} -o{} -aos -r'.format(exe_path, rar_path, un_path)\n",
    "    os.system(cmd)\n",
    "    \n",
    "    date = os.path.basename(data)\n",
    "    exe_path = 'G:\\\\7z1900-extra\\\\7za.exe'\n",
    "    rar_path = data + '\\\\SZ\\\\order.7z'\n",
    "    path = 'L:\\\\DB\\\\' + year + '\\\\SZ'\n",
    "    path1 = path + '\\\\' + date\n",
    "    un_path = path1\n",
    "    cmd = '{} x {} -o{} -aos -r'.format(exe_path, rar_path, un_path)\n",
    "    os.system(cmd)\n",
    "    \n",
    "    date = os.path.basename(data)\n",
    "    exe_path = 'G:\\\\7z1900-extra\\\\7za.exe'\n",
    "    rar_path = data + '\\\\SZ\\\\tick.7z'\n",
    "    path = 'L:\\\\DB\\\\' + year + '\\\\SZ'\n",
    "    path1 = path + '\\\\' + date\n",
    "    un_path = path1\n",
    "    cmd = '{} x {} -o{} -aos -r'.format(exe_path, rar_path, un_path)\n",
    "    os.system(cmd)\n",
    "    \n",
    "    \n",
    "    l.append(data)\n",
    "    print(datetime.datetime.now() - startTm)\n",
    "    print(date + ' finished')\n",
    "    \n",
    "print(len(l))\n",
    "print(bad)\n",
    "print(less)"
   ]
  },
  {
   "cell_type": "code",
   "execution_count": 6,
   "metadata": {},
   "outputs": [],
   "source": [
    "year = \"2019\"\n",
    "startDate = '20200101'\n",
    "endDate = '20200531'\n",
    "bad = []\n",
    "less = []\n",
    "readPath = 'K:\\\\data\\\\' + year + '\\\\***\\\\***'\n",
    "dataPathLs = np.array(glob.glob(readPath))\n",
    "dateLs = np.array([os.path.basename(i).split('_')[0] for i in dataPathLs])\n",
    "dataPathLs = dataPathLs[(dateLs >= startDate) & (dateLs <= endDate)]\n",
    "date_list = pd.read_csv(\"G:\\\\trading_days.csv\")\n",
    "l = []\n",
    "for data in dataPathLs:\n",
    "    if len(np.array(glob.glob(data + '\\\\SH\\\\***'))) == 0:\n",
    "        if int(os.path.basename(data)) not in date_list[\"Date\"].values:\n",
    "            continue\n",
    "        else:\n",
    "            print(os.path.basename(data) + \" less data!!!!!!!!!!!!!!!!!\")\n",
    "            less.append(data)\n",
    "            continue\n",
    "    l.append(data)"
   ]
  },
  {
   "cell_type": "code",
   "execution_count": 7,
   "metadata": {},
   "outputs": [
    {
     "data": {
      "text/plain": [
       "97"
      ]
     },
     "execution_count": 7,
     "metadata": {},
     "output_type": "execute_result"
    }
   ],
   "source": [
    "len(l)"
   ]
  },
  {
   "cell_type": "code",
   "execution_count": 5,
   "metadata": {},
   "outputs": [
    {
     "data": {
      "text/plain": [
       "151"
      ]
     },
     "execution_count": 5,
     "metadata": {},
     "output_type": "execute_result"
    }
   ],
   "source": [
    "len(dataPathLs)"
   ]
  }
 ],
 "metadata": {
  "kernelspec": {
   "display_name": "Python 3",
   "language": "python",
   "name": "python3"
  },
  "language_info": {
   "codemirror_mode": {
    "name": "ipython",
    "version": 3
   },
   "file_extension": ".py",
   "mimetype": "text/x-python",
   "name": "python",
   "nbconvert_exporter": "python",
   "pygments_lexer": "ipython3",
   "version": "3.7.4"
  }
 },
 "nbformat": 4,
 "nbformat_minor": 2
}
