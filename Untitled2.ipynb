{
 "cells": [
  {
   "cell_type": "code",
   "execution_count": null,
   "metadata": {},
   "outputs": [
    {
     "data": {
      "text/plain": [
       "array(['H:\\\\LEVEL2_shanghai\\\\2018\\\\201801.rar',\n",
       "       'H:\\\\LEVEL2_shanghai\\\\2018\\\\201802.rar',\n",
       "       'H:\\\\LEVEL2_shanghai\\\\2018\\\\201803.rar',\n",
       "       'H:\\\\LEVEL2_shanghai\\\\2018\\\\201804.rar',\n",
       "       'H:\\\\LEVEL2_shanghai\\\\2018\\\\201805.rar',\n",
       "       'H:\\\\LEVEL2_shanghai\\\\2018\\\\201806.rar',\n",
       "       'H:\\\\LEVEL2_shanghai\\\\2018\\\\201807.rar',\n",
       "       'H:\\\\LEVEL2_shanghai\\\\2018\\\\201808.rar',\n",
       "       'H:\\\\LEVEL2_shanghai\\\\2018\\\\201809.rar',\n",
       "       'H:\\\\LEVEL2_shanghai\\\\2018\\\\201810.rar',\n",
       "       'H:\\\\LEVEL2_shanghai\\\\2018\\\\201811.rar',\n",
       "       'H:\\\\LEVEL2_shanghai\\\\2018\\\\201812.rar'], dtype='<U34')"
      ]
     },
     "metadata": {},
     "output_type": "display_data"
    }
   ],
   "source": [
    "import pandas as pd\n",
    "import random\n",
    "import numpy as np\n",
    "import glob\n",
    "import os\n",
    "import datetime\n",
    "\n",
    "from unrar import rarfile\n",
    "year = \"2018\"\n",
    "readPath = 'H:\\\\LEVEL2_shanghai\\\\' + year + '\\\\***'\n",
    "dataPathLs = np.array(glob.glob(readPath))\n",
    "display(dataPathLs)\n",
    "rar = rarfile.RarFile(\"H:\\\\LEVEL2_shanghai\\\\2018\\\\201801.rar\")\n",
    "rar_dir = rar.namelist()\n",
    "startTm = datetime.datetime.now()\n",
    "pd.read_csv(rar.open(rar_dir[0]), header=None)\n",
    "print(datetime.datetime.now() - startTm)"
   ]
  }
 ],
 "metadata": {
  "kernelspec": {
   "display_name": "Python 3",
   "language": "python",
   "name": "python3"
  },
  "language_info": {
   "codemirror_mode": {
    "name": "ipython",
    "version": 3
   },
   "file_extension": ".py",
   "mimetype": "text/x-python",
   "name": "python",
   "nbconvert_exporter": "python",
   "pygments_lexer": "ipython3",
   "version": "3.7.4"
  }
 },
 "nbformat": 4,
 "nbformat_minor": 2
}
