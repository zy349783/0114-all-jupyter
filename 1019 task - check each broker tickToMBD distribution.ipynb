{
 "cells": [
  {
   "cell_type": "code",
   "execution_count": 178,
   "metadata": {
    "scrolled": true
   },
   "outputs": [
    {
     "name": "stderr",
     "output_type": "stream",
     "text": [
      "C:\\Users\\win\\Anaconda3\\lib\\site-packages\\IPython\\core\\interactiveshell.py:3058: DtypeWarning: Columns (17) have mixed types. Specify dtype option on import or set low_memory=False.\n",
      "  interactivity=interactivity, compiler=compiler, result=result)\n",
      "C:\\Users\\win\\Anaconda3\\lib\\site-packages\\IPython\\core\\interactiveshell.py:3058: DtypeWarning: Columns (17,19) have mixed types. Specify dtype option on import or set low_memory=False.\n",
      "  interactivity=interactivity, compiler=compiler, result=result)\n",
      "C:\\Users\\win\\Anaconda3\\lib\\site-packages\\IPython\\core\\interactiveshell.py:3058: DtypeWarning: Columns (17,26) have mixed types. Specify dtype option on import or set low_memory=False.\n",
      "  interactivity=interactivity, compiler=compiler, result=result)\n",
      "C:\\Users\\win\\Anaconda3\\lib\\site-packages\\IPython\\core\\interactiveshell.py:3058: DtypeWarning: Columns (17,19,25) have mixed types. Specify dtype option on import or set low_memory=False.\n",
      "  interactivity=interactivity, compiler=compiler, result=result)\n"
     ]
    },
    {
     "name": "stdout",
     "output_type": "stream",
     "text": [
      "=======================================================================================\n",
      "1. same date, secid, vai: same direction\n",
      "opposite direction for same date, same secid, same vai\n"
     ]
    },
    {
     "data": {
      "text/html": [
       "<div>\n",
       "<style scoped>\n",
       "    .dataframe tbody tr th:only-of-type {\n",
       "        vertical-align: middle;\n",
       "    }\n",
       "\n",
       "    .dataframe tbody tr th {\n",
       "        vertical-align: top;\n",
       "    }\n",
       "\n",
       "    .dataframe thead th {\n",
       "        text-align: right;\n",
       "    }\n",
       "</style>\n",
       "<table border=\"1\" class=\"dataframe\">\n",
       "  <thead>\n",
       "    <tr style=\"text-align: right;\">\n",
       "      <th></th>\n",
       "      <th>date</th>\n",
       "      <th>accCode</th>\n",
       "      <th>secid</th>\n",
       "      <th>vai</th>\n",
       "      <th>orderDirection</th>\n",
       "      <th>order</th>\n",
       "    </tr>\n",
       "  </thead>\n",
       "  <tbody>\n",
       "    <tr>\n",
       "      <td>56323</td>\n",
       "      <td>20200914</td>\n",
       "      <td>8854</td>\n",
       "      <td>1603008</td>\n",
       "      <td>8905434</td>\n",
       "      <td>-1</td>\n",
       "      <td>30680</td>\n",
       "    </tr>\n",
       "    <tr>\n",
       "      <td>56326</td>\n",
       "      <td>20200914</td>\n",
       "      <td>528701</td>\n",
       "      <td>1603008</td>\n",
       "      <td>8905434</td>\n",
       "      <td>1</td>\n",
       "      <td>62141</td>\n",
       "    </tr>\n",
       "    <tr>\n",
       "      <td>70068</td>\n",
       "      <td>20200914</td>\n",
       "      <td>8854</td>\n",
       "      <td>1603298</td>\n",
       "      <td>2761528</td>\n",
       "      <td>-1</td>\n",
       "      <td>30710</td>\n",
       "    </tr>\n",
       "    <tr>\n",
       "      <td>70071</td>\n",
       "      <td>20200914</td>\n",
       "      <td>9551</td>\n",
       "      <td>1603298</td>\n",
       "      <td>2761528</td>\n",
       "      <td>1</td>\n",
       "      <td>41692</td>\n",
       "    </tr>\n",
       "    <tr>\n",
       "      <td>194557</td>\n",
       "      <td>20200914</td>\n",
       "      <td>5456</td>\n",
       "      <td>2002880</td>\n",
       "      <td>774305</td>\n",
       "      <td>1</td>\n",
       "      <td>19871</td>\n",
       "    </tr>\n",
       "    <tr>\n",
       "      <td>...</td>\n",
       "      <td>...</td>\n",
       "      <td>...</td>\n",
       "      <td>...</td>\n",
       "      <td>...</td>\n",
       "      <td>...</td>\n",
       "      <td>...</td>\n",
       "    </tr>\n",
       "    <tr>\n",
       "      <td>3591314</td>\n",
       "      <td>20200930</td>\n",
       "      <td>6623</td>\n",
       "      <td>2002677</td>\n",
       "      <td>1616000</td>\n",
       "      <td>-1</td>\n",
       "      <td>872855</td>\n",
       "    </tr>\n",
       "    <tr>\n",
       "      <td>3591318</td>\n",
       "      <td>20200930</td>\n",
       "      <td>6627</td>\n",
       "      <td>2002677</td>\n",
       "      <td>1616000</td>\n",
       "      <td>-1</td>\n",
       "      <td>873943</td>\n",
       "    </tr>\n",
       "    <tr>\n",
       "      <td>3591322</td>\n",
       "      <td>20200930</td>\n",
       "      <td>8854</td>\n",
       "      <td>2002677</td>\n",
       "      <td>1616000</td>\n",
       "      <td>1</td>\n",
       "      <td>876543</td>\n",
       "    </tr>\n",
       "    <tr>\n",
       "      <td>3591325</td>\n",
       "      <td>20200930</td>\n",
       "      <td>8865</td>\n",
       "      <td>2002677</td>\n",
       "      <td>1616000</td>\n",
       "      <td>-1</td>\n",
       "      <td>877120</td>\n",
       "    </tr>\n",
       "    <tr>\n",
       "      <td>3591329</td>\n",
       "      <td>20200930</td>\n",
       "      <td>9471</td>\n",
       "      <td>2002677</td>\n",
       "      <td>1616000</td>\n",
       "      <td>-1</td>\n",
       "      <td>885956</td>\n",
       "    </tr>\n",
       "  </tbody>\n",
       "</table>\n",
       "<p>92 rows × 6 columns</p>\n",
       "</div>"
      ],
      "text/plain": [
       "             date  accCode    secid      vai  orderDirection   order\n",
       "56323    20200914     8854  1603008  8905434              -1   30680\n",
       "56326    20200914   528701  1603008  8905434               1   62141\n",
       "70068    20200914     8854  1603298  2761528              -1   30710\n",
       "70071    20200914     9551  1603298  2761528               1   41692\n",
       "194557   20200914     5456  2002880   774305               1   19871\n",
       "...           ...      ...      ...      ...             ...     ...\n",
       "3591314  20200930     6623  2002677  1616000              -1  872855\n",
       "3591318  20200930     6627  2002677  1616000              -1  873943\n",
       "3591322  20200930     8854  2002677  1616000               1  876543\n",
       "3591325  20200930     8865  2002677  1616000              -1  877120\n",
       "3591329  20200930     9471  2002677  1616000              -1  885956\n",
       "\n",
       "[92 rows x 6 columns]"
      ]
     },
     "metadata": {},
     "output_type": "display_data"
    },
    {
     "name": "stdout",
     "output_type": "stream",
     "text": [
      "=======================================================================================\n",
      "2. same date, secid, vai, accCode: one insertion\n",
      "more than one insertion at same time\n"
     ]
    },
    {
     "data": {
      "text/html": [
       "<div>\n",
       "<style scoped>\n",
       "    .dataframe tbody tr th:only-of-type {\n",
       "        vertical-align: middle;\n",
       "    }\n",
       "\n",
       "    .dataframe tbody tr th {\n",
       "        vertical-align: top;\n",
       "    }\n",
       "\n",
       "    .dataframe thead th {\n",
       "        text-align: right;\n",
       "    }\n",
       "</style>\n",
       "<table border=\"1\" class=\"dataframe\">\n",
       "  <thead>\n",
       "    <tr style=\"text-align: right;\">\n",
       "      <th></th>\n",
       "      <th>date</th>\n",
       "      <th>accCode</th>\n",
       "      <th>secid</th>\n",
       "      <th>vai</th>\n",
       "      <th>order</th>\n",
       "      <th>clockAtArrival</th>\n",
       "    </tr>\n",
       "  </thead>\n",
       "  <tbody>\n",
       "    <tr>\n",
       "      <td>0</td>\n",
       "      <td>20200914</td>\n",
       "      <td>5273</td>\n",
       "      <td>2300550</td>\n",
       "      <td>3100</td>\n",
       "      <td>7203</td>\n",
       "      <td>2</td>\n",
       "    </tr>\n",
       "    <tr>\n",
       "      <td>1</td>\n",
       "      <td>20200914</td>\n",
       "      <td>6683</td>\n",
       "      <td>2000688</td>\n",
       "      <td>1852523</td>\n",
       "      <td>27948</td>\n",
       "      <td>2</td>\n",
       "    </tr>\n",
       "    <tr>\n",
       "      <td>2</td>\n",
       "      <td>20200914</td>\n",
       "      <td>6683</td>\n",
       "      <td>2300723</td>\n",
       "      <td>1201900</td>\n",
       "      <td>29521</td>\n",
       "      <td>2</td>\n",
       "    </tr>\n",
       "    <tr>\n",
       "      <td>3</td>\n",
       "      <td>20200914</td>\n",
       "      <td>8854</td>\n",
       "      <td>2000688</td>\n",
       "      <td>2980019</td>\n",
       "      <td>30834</td>\n",
       "      <td>2</td>\n",
       "    </tr>\n",
       "    <tr>\n",
       "      <td>4</td>\n",
       "      <td>20200914</td>\n",
       "      <td>8854</td>\n",
       "      <td>2002961</td>\n",
       "      <td>556897</td>\n",
       "      <td>31125</td>\n",
       "      <td>2</td>\n",
       "    </tr>\n",
       "    <tr>\n",
       "      <td>...</td>\n",
       "      <td>...</td>\n",
       "      <td>...</td>\n",
       "      <td>...</td>\n",
       "      <td>...</td>\n",
       "      <td>...</td>\n",
       "      <td>...</td>\n",
       "    </tr>\n",
       "    <tr>\n",
       "      <td>526</td>\n",
       "      <td>20200930</td>\n",
       "      <td>9741</td>\n",
       "      <td>2002735</td>\n",
       "      <td>1029020</td>\n",
       "      <td>890098</td>\n",
       "      <td>2</td>\n",
       "    </tr>\n",
       "    <tr>\n",
       "      <td>527</td>\n",
       "      <td>20200930</td>\n",
       "      <td>9741</td>\n",
       "      <td>2002802</td>\n",
       "      <td>340600</td>\n",
       "      <td>890201</td>\n",
       "      <td>2</td>\n",
       "    </tr>\n",
       "    <tr>\n",
       "      <td>528</td>\n",
       "      <td>20200930</td>\n",
       "      <td>9741</td>\n",
       "      <td>2300492</td>\n",
       "      <td>151700</td>\n",
       "      <td>891001</td>\n",
       "      <td>2</td>\n",
       "    </tr>\n",
       "    <tr>\n",
       "      <td>529</td>\n",
       "      <td>20200930</td>\n",
       "      <td>9741</td>\n",
       "      <td>2300522</td>\n",
       "      <td>1074820</td>\n",
       "      <td>891087</td>\n",
       "      <td>2</td>\n",
       "    </tr>\n",
       "    <tr>\n",
       "      <td>530</td>\n",
       "      <td>20200930</td>\n",
       "      <td>9741</td>\n",
       "      <td>2300681</td>\n",
       "      <td>468700</td>\n",
       "      <td>891512</td>\n",
       "      <td>2</td>\n",
       "    </tr>\n",
       "  </tbody>\n",
       "</table>\n",
       "<p>531 rows × 6 columns</p>\n",
       "</div>"
      ],
      "text/plain": [
       "         date  accCode    secid      vai   order  clockAtArrival\n",
       "0    20200914     5273  2300550     3100    7203               2\n",
       "1    20200914     6683  2000688  1852523   27948               2\n",
       "2    20200914     6683  2300723  1201900   29521               2\n",
       "3    20200914     8854  2000688  2980019   30834               2\n",
       "4    20200914     8854  2002961   556897   31125               2\n",
       "..        ...      ...      ...      ...     ...             ...\n",
       "526  20200930     9741  2002735  1029020  890098               2\n",
       "527  20200930     9741  2002802   340600  890201               2\n",
       "528  20200930     9741  2300492   151700  891001               2\n",
       "529  20200930     9741  2300522  1074820  891087               2\n",
       "530  20200930     9741  2300681   468700  891512               2\n",
       "\n",
       "[531 rows x 6 columns]"
      ]
     },
     "metadata": {},
     "output_type": "display_data"
    },
    {
     "name": "stdout",
     "output_type": "stream",
     "text": [
      "99.64% SZE orders triggered by msg data\n",
      "=======================================================================================\n",
      "3. IPO stocks selling (ars = 301, 302)\n",
      "=======================================================================================\n",
      "4. updateType 7 orders\n",
      "=======================================================================================\n",
      "5. updateType 6 orders\n",
      "=======================================================================================\n",
      "6. CYB stocks total order size < 30w\n",
      "=======================================================================================\n",
      "7. unexpected updateType\n",
      "=======================================================================================\n",
      "8. status == 0: all traded\n",
      "in total trade, any fill != total cases\n"
     ]
    },
    {
     "data": {
      "text/html": [
       "<div>\n",
       "<style scoped>\n",
       "    .dataframe tbody tr th:only-of-type {\n",
       "        vertical-align: middle;\n",
       "    }\n",
       "\n",
       "    .dataframe tbody tr th {\n",
       "        vertical-align: top;\n",
       "    }\n",
       "\n",
       "    .dataframe thead th {\n",
       "        text-align: right;\n",
       "    }\n",
       "</style>\n",
       "<table border=\"1\" class=\"dataframe\">\n",
       "  <thead>\n",
       "    <tr style=\"text-align: right;\">\n",
       "      <th></th>\n",
       "      <th>order</th>\n",
       "      <th>filled</th>\n",
       "      <th>total</th>\n",
       "    </tr>\n",
       "  </thead>\n",
       "  <tbody>\n",
       "    <tr>\n",
       "      <td>7429</td>\n",
       "      <td>9735</td>\n",
       "      <td>300</td>\n",
       "      <td>400</td>\n",
       "    </tr>\n",
       "    <tr>\n",
       "      <td>8203</td>\n",
       "      <td>10691</td>\n",
       "      <td>6200</td>\n",
       "      <td>14600</td>\n",
       "    </tr>\n",
       "    <tr>\n",
       "      <td>9187</td>\n",
       "      <td>11799</td>\n",
       "      <td>90000</td>\n",
       "      <td>143700</td>\n",
       "    </tr>\n",
       "    <tr>\n",
       "      <td>10058</td>\n",
       "      <td>12769</td>\n",
       "      <td>2200</td>\n",
       "      <td>2300</td>\n",
       "    </tr>\n",
       "    <tr>\n",
       "      <td>15319</td>\n",
       "      <td>18984</td>\n",
       "      <td>3400</td>\n",
       "      <td>32200</td>\n",
       "    </tr>\n",
       "    <tr>\n",
       "      <td>...</td>\n",
       "      <td>...</td>\n",
       "      <td>...</td>\n",
       "      <td>...</td>\n",
       "    </tr>\n",
       "    <tr>\n",
       "      <td>646194</td>\n",
       "      <td>903421</td>\n",
       "      <td>500</td>\n",
       "      <td>800</td>\n",
       "    </tr>\n",
       "    <tr>\n",
       "      <td>646294</td>\n",
       "      <td>903542</td>\n",
       "      <td>19050</td>\n",
       "      <td>49000</td>\n",
       "    </tr>\n",
       "    <tr>\n",
       "      <td>646629</td>\n",
       "      <td>903970</td>\n",
       "      <td>19500</td>\n",
       "      <td>23300</td>\n",
       "    </tr>\n",
       "    <tr>\n",
       "      <td>648388</td>\n",
       "      <td>906732</td>\n",
       "      <td>500</td>\n",
       "      <td>700</td>\n",
       "    </tr>\n",
       "    <tr>\n",
       "      <td>650252</td>\n",
       "      <td>909551</td>\n",
       "      <td>20000</td>\n",
       "      <td>22000</td>\n",
       "    </tr>\n",
       "  </tbody>\n",
       "</table>\n",
       "<p>374 rows × 3 columns</p>\n",
       "</div>"
      ],
      "text/plain": [
       "         order  filled   total\n",
       "7429      9735     300     400\n",
       "8203     10691    6200   14600\n",
       "9187     11799   90000  143700\n",
       "10058    12769    2200    2300\n",
       "15319    18984    3400   32200\n",
       "...        ...     ...     ...\n",
       "646194  903421     500     800\n",
       "646294  903542   19050   49000\n",
       "646629  903970   19500   23300\n",
       "648388  906732     500     700\n",
       "650252  909551   20000   22000\n",
       "\n",
       "[374 rows x 3 columns]"
      ]
     },
     "metadata": {},
     "output_type": "display_data"
    },
    {
     "name": "stdout",
     "output_type": "stream",
     "text": [
      "=======================================================================================\n",
      "9. status == 1: partial traded\n",
      "in partial trade, any fill >= total or fill is 0 cases for updateType 4\n"
     ]
    },
    {
     "data": {
      "text/html": [
       "<div>\n",
       "<style scoped>\n",
       "    .dataframe tbody tr th:only-of-type {\n",
       "        vertical-align: middle;\n",
       "    }\n",
       "\n",
       "    .dataframe tbody tr th {\n",
       "        vertical-align: top;\n",
       "    }\n",
       "\n",
       "    .dataframe thead th {\n",
       "        text-align: right;\n",
       "    }\n",
       "</style>\n",
       "<table border=\"1\" class=\"dataframe\">\n",
       "  <thead>\n",
       "    <tr style=\"text-align: right;\">\n",
       "      <th></th>\n",
       "      <th>order</th>\n",
       "      <th>filled</th>\n",
       "      <th>total</th>\n",
       "    </tr>\n",
       "  </thead>\n",
       "  <tbody>\n",
       "  </tbody>\n",
       "</table>\n",
       "</div>"
      ],
      "text/plain": [
       "Empty DataFrame\n",
       "Columns: [order, filled, total]\n",
       "Index: []"
      ]
     },
     "metadata": {},
     "output_type": "display_data"
    },
    {
     "name": "stdout",
     "output_type": "stream",
     "text": [
      "=======================================================================================\n",
      "10. no cancellation within 1 sec\n",
      "any cancellation within 1 sec\n"
     ]
    },
    {
     "data": {
      "text/html": [
       "<div>\n",
       "<style scoped>\n",
       "    .dataframe tbody tr th:only-of-type {\n",
       "        vertical-align: middle;\n",
       "    }\n",
       "\n",
       "    .dataframe tbody tr th {\n",
       "        vertical-align: top;\n",
       "    }\n",
       "\n",
       "    .dataframe thead th {\n",
       "        text-align: right;\n",
       "    }\n",
       "</style>\n",
       "<table border=\"1\" class=\"dataframe\">\n",
       "  <thead>\n",
       "    <tr style=\"text-align: right;\">\n",
       "      <th></th>\n",
       "      <th>Unnamed: 0</th>\n",
       "      <th>clockAtArrival</th>\n",
       "      <th>caamd</th>\n",
       "      <th>secid</th>\n",
       "      <th>updateType</th>\n",
       "      <th>vai</th>\n",
       "      <th>ars</th>\n",
       "      <th>absFilledThisUpdate</th>\n",
       "      <th>orderDirection</th>\n",
       "      <th>absOrderSize</th>\n",
       "      <th>absOrderSizeCumFilled</th>\n",
       "      <th>orderPrice</th>\n",
       "      <th>tradePrice</th>\n",
       "      <th>date</th>\n",
       "      <th>accCode</th>\n",
       "      <th>mse</th>\n",
       "      <th>colo</th>\n",
       "      <th>orderSysId</th>\n",
       "      <th>internalId</th>\n",
       "      <th>tradeId</th>\n",
       "      <th>sdd</th>\n",
       "      <th>aaa</th>\n",
       "      <th>ApplSeqNum</th>\n",
       "      <th>mrm</th>\n",
       "      <th>mta</th>\n",
       "      <th>mrsb</th>\n",
       "      <th>mrss</th>\n",
       "      <th>mrv</th>\n",
       "      <th>mrb100</th>\n",
       "      <th>mra100</th>\n",
       "      <th>l4tr</th>\n",
       "      <th>clock</th>\n",
       "      <th>broker</th>\n",
       "      <th>colo_broker</th>\n",
       "      <th>order</th>\n",
       "      <th>group</th>\n",
       "      <th>startClock</th>\n",
       "      <th>duration</th>\n",
       "      <th>orderDirection1</th>\n",
       "      <th>directNum</th>\n",
       "      <th>isMsg</th>\n",
       "      <th>status</th>\n",
       "    </tr>\n",
       "  </thead>\n",
       "  <tbody>\n",
       "  </tbody>\n",
       "</table>\n",
       "</div>"
      ],
      "text/plain": [
       "Empty DataFrame\n",
       "Columns: [Unnamed: 0, clockAtArrival, caamd, secid, updateType, vai, ars, absFilledThisUpdate, orderDirection, absOrderSize, absOrderSizeCumFilled, orderPrice, tradePrice, date, accCode, mse, colo, orderSysId, internalId, tradeId, sdd, aaa, ApplSeqNum, mrm, mta, mrsb, mrss, mrv, mrb100, mra100, l4tr, clock, broker, colo_broker, order, group, startClock, duration, orderDirection1, directNum, isMsg, status]\n",
       "Index: []"
      ]
     },
     "metadata": {},
     "output_type": "display_data"
    },
    {
     "name": "stdout",
     "output_type": "stream",
     "text": [
      "=======================================================================================\n",
      "11. Orders with size > 80w or notional > 800w\n"
     ]
    },
    {
     "data": {
      "text/plain": [
       "array([20200914, 20200915, 20200916, 20200917, 20200918, 20200921,\n",
       "       20200922, 20200923, 20200924, 20200925, 20200928, 20200929,\n",
       "       20200930], dtype=int64)"
      ]
     },
     "metadata": {},
     "output_type": "display_data"
    }
   ],
   "source": [
    "import pandas as pd\n",
    "import numpy as np\n",
    "import glob\n",
    "import os\n",
    "import datetime\n",
    "\n",
    "startDate = '20200914'\n",
    "endDate = '20200930'\n",
    "\n",
    "\n",
    "\n",
    "readPath = r'\\\\192.168.10.30\\Kevin_zhenyu\\orderLog\\equityTradeLogs'\n",
    "dataPathLs = np.array(glob.glob(os.path.join(readPath, 'speedCompare***.csv')))\n",
    "dateLs = np.array([os.path.basename(i).split('_')[1].split('.')[0] for i in dataPathLs])\n",
    "dataPathLs = dataPathLs[(dateLs >= startDate) & (dateLs <= endDate)]\n",
    "rawOrderLog = []\n",
    "for thisDate, thisPath in zip(dateLs, dataPathLs):\n",
    "    data = pd.read_csv(thisPath)\n",
    "    data = data.rename(columns={'mdClockAtArrival': 'caamd'})\n",
    "    rawOrderLog += [data]\n",
    "rawOrderLog = pd.concat(rawOrderLog, sort=False)\n",
    "\n",
    "# rawOrderLog = pd.read_pickle(r'A:\\temp\\speedCheck\\zt96_statwo_20200818.pkl')\n",
    "\n",
    "\n",
    "for col in ['clockAtArrival', 'caamd', 'secid', 'updateType', 'vai', 'absFilledThisUpdate', 'orderDirection', 'absOrderSize',\n",
    "            'absOrderSizeCumFilled', 'date', 'accCode', 'mse']:\n",
    "    rawOrderLog[col] = rawOrderLog[col].astype('int64')   \n",
    "rawOrderLog = rawOrderLog.sort_values(by=['date', 'secid', 'vai', 'accCode', 'clockAtArrival']).reset_index(drop=True)\n",
    "\n",
    "rawOrderLog = rawOrderLog[rawOrderLog[\"secid\"] >= 1000000]\n",
    "\n",
    "rawOrderLog['clock'] = rawOrderLog['clockAtArrival'].apply(lambda x: datetime.datetime.fromtimestamp(x/1e6))\n",
    "rawOrderLog['broker'] = rawOrderLog['accCode'] // 100\n",
    "rawOrderLog[\"broker\"] = np.where(rawOrderLog[\"accCode\"].astype(str).apply(lambda x: len(x) == 6), rawOrderLog['accCode'] // 10000, rawOrderLog[\"broker\"])\n",
    "rawOrderLog['colo_broker'] = rawOrderLog['colo'].str[:2] + '_' + rawOrderLog['broker'].astype('str')\n",
    "rawOrderLog['order'] = rawOrderLog.groupby(['date', 'accCode', 'secid', 'vai']).grouper.group_info[0]\n",
    "rawOrderLog['group'] = rawOrderLog.groupby(['date', 'secid', 'vai']).grouper.group_info[0]\n",
    "rawOrderLog['startClock'] = rawOrderLog.groupby(['order'])['clockAtArrival'].transform('first')\n",
    "rawOrderLog['duration'] = rawOrderLog['clockAtArrival'] - rawOrderLog['startClock']\n",
    "rawOrderLog['orderPrice'] = rawOrderLog['orderPrice'].apply(lambda x: round(x, 2))\n",
    "rawOrderLog['tradePrice'] = rawOrderLog['tradePrice'].apply(lambda x: round(x, 2))\n",
    "rawOrderLog['orderDirection1'] = np.where(rawOrderLog[\"orderDirection\"] == -2, -1, np.where(\n",
    "    rawOrderLog[\"orderDirection\"] == 2, 1, rawOrderLog[\"orderDirection\"]))\n",
    "orderLog = rawOrderLog.copy()\n",
    "\n",
    "### Assertion 1:  make sure same direction in same date, secid, vai\n",
    "print('=======================================================================================')\n",
    "print('1. same date, secid, vai: same direction')\n",
    "orderLog['directNum'] = orderLog.groupby(['date', 'secid', 'vai'])['orderDirection1'].transform('nunique')\n",
    "if len(orderLog[orderLog['directNum'] != 1]) > 0:\n",
    "    print('opposite direction for same date, same secid, same vai')\n",
    "    display(orderLog[(orderLog['directNum'] != 1) & (orderLog['updateType'] == 0)][['date', 'accCode', 'secid', 'vai', 'orderDirection', 'order']])\n",
    "    orderLog = orderLog[orderLog['directNum'] == 1]\n",
    "\n",
    "assert((orderLog.groupby(['date', 'secid', 'vai'])['orderDirection1'].nunique() == 1).all() == True)\n",
    "\n",
    "## Assertion 2:  make sure each account, secid, vai only has one insertion\n",
    "print('=======================================================================================')\n",
    "print('2. same date, secid, vai, accCode: one insertion')\n",
    "a = orderLog[orderLog['updateType'] == 0].groupby(['date', 'accCode', 'secid', 'vai', 'order'])['clockAtArrival'].count()\n",
    "if len(a[a > 1]) > 0:\n",
    "    print('more than one insertion at same time')\n",
    "    a = a[a>1].reset_index()\n",
    "    display(a)\n",
    "    orderLog = orderLog[~(orderLog['order'].isin(a['order'].unique()))]\n",
    "\n",
    "orderLog['isMsg'] = np.where(orderLog['updateType'] == 0, \n",
    "                             np.where(orderLog['mse'] == 100, 1, 0), np.nan)\n",
    "orderLog['isMsg'] = orderLog.groupby(['order'])['isMsg'].ffill()\n",
    "\n",
    "placeSZE = orderLog[(orderLog['secid'] >= 2000000) & (orderLog['updateType'] == 0)]\n",
    "print('%.2f%% SZE orders triggered by msg data'%(placeSZE[placeSZE['isMsg'] == 1].shape[0]/placeSZE.shape[0]*100))\n",
    "\n",
    "\n",
    "### Assertion 3:  check IPO stocks selling status\n",
    "print('=======================================================================================')\n",
    "print('3. IPO stocks selling (ars = 301, 302)')\n",
    "if orderLog[orderLog['ars'].isin([301, 302])].shape[0] != 0:\n",
    "    kk = orderLog[orderLog['ars'].isin([301, 302])]\n",
    "    print(kk)\n",
    "    try:\n",
    "        assert(kk[kk['orderDirection1'] == 1].shape[0] == 0)\n",
    "        print('we only sell, never buy')\n",
    "    except:\n",
    "        print('There are IPO buy side orders!!!!!!!!!!!!!!!!!!!!!!!!!!!!!')\n",
    "        print(kk[kk['orderDirection1'] == 1])\n",
    "    kk1 = kk[kk['updateType'] == 0]\n",
    "    kk1 = kk1.sort_values(by=['accCode', 'secid','clockAtArrival'])\n",
    "    kk1['diff'] = kk1.groupby(['accCode', 'secid'])['clockAtArrival'].apply(lambda x: x-x.shift(1))\n",
    "    kk1['diff'] = kk1['diff'].fillna(0)\n",
    "    try:\n",
    "        assert(kk1[kk1['diff'] < 10e6].shape[0] == 0)\n",
    "        print('for each stock in the same account, there is no insertion within 10 seconds of the previous insertion')\n",
    "    except:\n",
    "        print('There are insertion within 10 seconds for orders under same account same stock!!!!!!!!!!!!!!!!!!!!!!!!!!!!!')\n",
    "        print(kk1[kk1['diff'] < 10e6])\n",
    "    kk2 = kk[(kk['updateType'] == 1)]\n",
    "    try:\n",
    "        assert(kk2[kk2['duration'] < 3e6].shape[0] == 0)\n",
    "        print('for each stock in the same account, the cancellation of an order happens more than 3 seconds after the insertion')\n",
    "    except:\n",
    "        print('There are cancellation within 3 seconds for orders under same account same stock!!!!!!!!!!!!!!!!!!!!!!!!!!!!!')\n",
    "        print(kk2[kk2['duration'] < 3e6])\n",
    "\n",
    "\n",
    "### Assertion 4: check updateType == 7 orders, make sure updateType == 7 orders < 20 per account, < 100 in total\n",
    "print('=======================================================================================')\n",
    "print('4. updateType 7 orders')\n",
    "if orderLog[orderLog['updateType'] == 7].shape[0] != 0:\n",
    "    assert(orderLog[orderLog['updateType'] == 7].groupby('accCode')['order'].nunique().max() < 20)\n",
    "    assert(orderLog[orderLog['updateType'] == 7].groupby('accCode')['order'].nunique().sum() < 100)\n",
    "\n",
    "### Assertion 5: check updateType == 6 orders, make sure updateType == 6 orders < 5% per account\n",
    "print('=======================================================================================')\n",
    "print('5. updateType 6 orders')\n",
    "k1 = orderLog[orderLog['updateType'] == 6].groupby('accCode')['order'].nunique().reset_index()\n",
    "k2 = orderLog.groupby('accCode')['order'].nunique().reset_index()\n",
    "k = pd.merge(k1, k2, on='accCode', how='left')\n",
    "k['prob'] = k['order_x']/k['order_y']\n",
    "try:\n",
    "    assert(sum(k['prob'] >= 0.05) == 0)\n",
    "except:\n",
    "    print('There are accounts with more than 5% updateType 6 orders!!!!!!!!!!!!!!!!!!!!!!!!!!!!!!!!!')\n",
    "    print(k[k['prob'] >= 0.05])\n",
    "\n",
    "### Assertion 6: check CYB orders, make sure CYB stocks total absOrderSize < 30w\n",
    "print('=======================================================================================')\n",
    "print('6. CYB stocks total order size < 30w')\n",
    "try:\n",
    "    assert(orderLog[(orderLog['secid'] >= 2300000) & (orderLog['updateType'] == 0)]['absOrderSize'].max() <= 300000)\n",
    "except:\n",
    "    print('CYB stocks total absOrderSize >= 30w!!!!!!!!!!!!!!!!!!!!!!!!!!!!!!!!!!!!!!!!!!!!!')\n",
    "    \n",
    "     \n",
    "### Assertion 7:  make sure there is no unexpected updateType \n",
    "print('=======================================================================================')\n",
    "print('7. unexpected updateType')\n",
    "def getTuple(x):\n",
    "    return tuple(i for i in x)\n",
    "\n",
    "checkLog = orderLog[~((orderLog['updateType'] == 4) & (orderLog.groupby(['order'])['updateType'].shift(-1) == 4))]\n",
    "checkLog = checkLog.groupby(['order'])['updateType'].apply(lambda x: getTuple(x)).reset_index()\n",
    "checkLog['status'] = np.where(checkLog['updateType'].isin([(0, 2, 4), (0, 2, 1, 4), (0, 2, 1, 2, 4), (0, 2, 4, 1, 4), (0, 4), (0, 1, 4), (0, 4, 1, 4), (0, 2, 2, 4), (0, 4, 2, 4), (0, 2, 2, 1, 4), (0, 2, 2, 4, 1, 4)]),0,\n",
    "                     np.where(checkLog['updateType'].isin([(0, 2, 4, 1, 3), (0, 2, 4, 1, 4, 3), (0, 2, 1, 4, 3), (0, 4, 1, 3), (0, 1, 4, 3),\n",
    "                                                               (0, 2, 2, 4, 1, 3), (0, 2, 2, 4, 1, 4, 3), (0, 2, 2, 1, 4, 3), (0, 4, 2, 4, 1, 3),\n",
    "                                                               (0, 4, 2, 1, 3), (0, 4, 1, 4, 3), (0, 4, 1)]), 1,\n",
    "                     np.where(checkLog['updateType'].isin([(0, 2, 1, 3), (0, 2, 2, 1, 3), (0, 2, 3), (0, 3), (0, 1, 3), (0, ), (0, 2), (0, 2, 1), (0, 2, 2)]), 2, 3)))\n",
    "\n",
    "orderLog = pd.merge(orderLog, checkLog[['order', 'status']], how='left', on=['order'], validate='many_to_one')\n",
    "orderLog = orderLog[orderLog['status'].isin([0, 1, 2])].reset_index(drop=True)\n",
    "\n",
    "### Assertion 8:  make sure status==0 got all traded\n",
    "print('=======================================================================================')\n",
    "print('8. status == 0: all traded')\n",
    "a = orderLog[orderLog['status'] == 0]\n",
    "a = a.groupby(['order'])[['absOrderSizeCumFilled', 'absOrderSize']].max().reset_index()\n",
    "a.columns = ['order', 'filled', 'total']\n",
    "print('in total trade, any fill != total cases')\n",
    "display(a[a['filled'] != a['total']])\n",
    "if a[a['filled'] != a['total']].shape[0] > 0:\n",
    "    removeOrderLs = a[a['filled'] != a['total']]['order'].unique()\n",
    "    orderLog = orderLog[~(orderLog['order'].isin(removeOrderLs))]\n",
    "    \n",
    "### Assertion 9:  make sure status==1 got partial traded\n",
    "print('=======================================================================================')\n",
    "print('9. status == 1: partial traded')\n",
    "a = orderLog[orderLog['status'] == 1]\n",
    "a = a.groupby(['order'])[['absOrderSizeCumFilled', 'absOrderSize']].max().reset_index()\n",
    "a.columns = ['order', 'filled', 'total']\n",
    "print('in partial trade, any fill >= total or fill is 0 cases for updateType 4')\n",
    "display(a[(a['filled'] >= a['total']) | (a['filled'] == 0)])\n",
    "if a[(a['filled'] >= a['total']) | (a['filled'] == 0)].shape[0] > 0:\n",
    "    removeOrderLs = a[(a['filled'] >= a['total']) | (a['filled'] == 0)]['order'].unique()\n",
    "    orderLog = orderLog[~(orderLog['order'].isin(removeOrderLs))]\n",
    "    \n",
    "### Assertion 10: make sure no cancellation within 1 sec\n",
    "print('=======================================================================================')\n",
    "print('10. no cancellation within 1 sec')\n",
    "a = orderLog[(orderLog['updateType'] == 1) & (orderLog['duration'] < 1e6)]\n",
    "print('any cancellation within 1 sec')\n",
    "display(a)\n",
    "if a.shape[0] > 0:\n",
    "    removeOrderLs = a['order'].unique()\n",
    "    orderLog = orderLog[~(orderLog['order'].isin(removeOrderLs))]\n",
    "\n",
    "\n",
    "### Assertion 11: make sure no order has shares > 80w or notional > 800w\n",
    "print('=======================================================================================')\n",
    "print('11. Orders with size > 80w or notional > 800w')\n",
    "orderLog['orderNtl'] = orderLog['absOrderSize'] * orderLog['orderPrice']\n",
    "if orderLog[orderLog['absOrderSize'] > 800000].shape[0] > 0:\n",
    "    print('some order quantity are > 80w')\n",
    "    print(orderLog[orderLog['absOrderSize'] > 800000].groupby(['colo', 'accCode'])['order'].nunique())\n",
    "    display(orderLog[orderLog['absOrderSize'] > 800000][['date', 'accCode', 'secid', 'vai', 'absOrderSize', 'orderPrice',\n",
    "                                                         'orderNtl', 'orderDirection', 'clock', 'order']])\n",
    "            \n",
    "if orderLog[orderLog['orderNtl'] > 8000000].shape[0] > 0:\n",
    "    print('some order ntl are > 800w')\n",
    "    print(orderLog[orderLog['orderNtl'] > 8000000].groupby(['colo', 'accCode'])['order'].nunique())\n",
    "    display(orderLog[orderLog['orderNtl'] > 8000000][['date', 'accCode', 'secid', 'vai', 'absOrderSize', 'orderPrice',\n",
    "                                                      'orderNtl', 'orderDirection', 'clock', 'order', \"updateType\", \n",
    "                                                      \"tradePrice\", \"absOrderSizeCumFilled\", \"absFilledThisUpdate\"]])\n",
    "\n",
    "removeOrderLs = list(set(orderLog[orderLog['absOrderSize'] > 800000]['order'].unique()) | set(orderLog[orderLog['orderNtl'] > 8000000]['order'].unique()))\n",
    "orderLog = orderLog[~(orderLog['order'].isin(removeOrderLs))]\n",
    "\n",
    "orderLog = orderLog.sort_values(by=['date', 'secid', 'vai', 'accCode', 'clockAtArrival']).reset_index(drop=True)\n",
    "\n",
    "orderLog['exchange'] = np.where(orderLog['secid'] >= 2000000, 'SZE', 'SSE')\n",
    "orderLog['orderNtl'] = orderLog['orderPrice'] * orderLog['absOrderSize']\n",
    "orderLog['tradeNtl'] = np.where(orderLog['updateType'] == 4, orderLog['tradePrice']*orderLog['absFilledThisUpdate'], 0)\n",
    "orderLog['tradeNtl'] = orderLog.groupby('order')['tradeNtl'].transform('sum')\n",
    "orderLog[\"ars\"] = orderLog.groupby(['order'])['ars'].transform('first')\n",
    "orderLog['sta'] = np.where(orderLog['ars'].isin([121, 221, 321, 131, 231, 331]), 'statwo', 'staone')\n",
    "orderLog['cumFillSize'] = orderLog.groupby(['order'])['absOrderSizeCumFilled'].transform('max')\n",
    "orderLog['status'] = np.where(orderLog['cumFillSize'] == 0, '3. no filled', \n",
    "                                np.where(orderLog['cumFillSize'] < orderLog['absOrderSize'], '2. partial filled', '1. full filled'))\n",
    "\n",
    "\n",
    "startDate = '20200914'\n",
    "endDate = '20200930'\n",
    "readPath = r'L:\\orderLog\\result\\marketPos'\n",
    "dataPathLs = np.array(glob.glob(os.path.join(readPath, 'SZspeed_***.pkl')))\n",
    "dateLs = np.array([os.path.basename(i).split('.')[0].split('_')[1] for i in dataPathLs])\n",
    "dataPathLs = dataPathLs[(dateLs >= startDate) & (dateLs <= endDate)]\n",
    "checkData = []\n",
    "for path in dataPathLs:\n",
    "    data = pd.read_pickle(path)\n",
    "    checkData += [data]\n",
    "checkLog = pd.concat(checkData).reset_index(drop=True)   \n",
    "display(checkLog['date'].unique())\n",
    "\n",
    "checkLog = checkLog.drop_duplicates(['date', 'secid', 'Price', 'OrderQty', 'Side', 'statusLs', 'TradePriceLs', 'TradeQtyLs', 'ApplSeqNum'], keep=False)\n",
    "checkLog = checkLog[~checkLog['accCode'].isnull()]\n",
    "# checkLog = pd.merge(checkLog, orderLog[(orderLog['updateType'] == 0) & (orderLog['exchange'] == 'SZE')\n",
    "#                                 & (orderLog['ApplSeqNum'] != 0)][['orderDirection', 'date', 'colo', 'accCode', 'secid', 'ApplSeqNum', 'status', 'orderNtl', 'tradeNtl', 'colo_broker']],\n",
    "#              on=['date', 'colo', 'accCode', 'secid', 'ApplSeqNum'])\n",
    "# checkLog['time_diff'] = checkLog['clockAtArrival'] - checkLog['start_time']"
   ]
  },
  {
   "cell_type": "code",
   "execution_count": 185,
   "metadata": {},
   "outputs": [],
   "source": [
    "checkLog1 = checkLog[checkLog['orderDirection'].isin([1, -1])]\n",
    "checkLog2 = checkLog[checkLog['orderDirection'].isin([-2, 2])]\n",
    "checkLog1['use'] = np.where((checkLog1['colo'].str[:2] == 'zs') & (checkLog1['time_diff'] <= 20000), 1, np.where(\n",
    "(checkLog1['colo'].str[:2] == 'zt') & (checkLog1['time_diff'] <= 100000), 1, np.where(checkLog1['accCode'].isin([6282, 6237]), 1, 0)))\n",
    "checkLog1 = checkLog1[checkLog1['use'] == 1]"
   ]
  },
  {
   "cell_type": "code",
   "execution_count": 198,
   "metadata": {},
   "outputs": [
    {
     "data": {
      "text/plain": [
       "broker\n",
       "zs_52    19810.0\n",
       "zs_54    15365.0\n",
       "zs_64    14437.0\n",
       "zs_66    14075.0\n",
       "zs_88    19629.0\n",
       "zs_92     8138.0\n",
       "zs_94    99940.0\n",
       "zs_96    99953.0\n",
       "Name: time_diff, dtype: float64"
      ]
     },
     "execution_count": 198,
     "metadata": {},
     "output_type": "execute_result"
    }
   ],
   "source": [
    "checkLog1[checkLog1['colo'].str[:2] == 'zs'].groupby('broker')['time_diff'].max()"
   ]
  },
  {
   "cell_type": "code",
   "execution_count": 171,
   "metadata": {},
   "outputs": [
    {
     "data": {
      "image/png": "[encoded data removed]",
      "text/plain": [
       "<Figure size 720x432 with 1 Axes>"
      ]
     },
     "metadata": {
      "needs_background": "light"
     },
     "output_type": "display_data"
    }
   ],
   "source": [
    "checkLog2 = checkLog[checkLog['orderDirection'].isin([-2, 2])]\n",
    "fig = plt.figure(figsize=(10, 6))\n",
    "ax1 = fig.add_subplot(111)\n",
    "ax1.hist(checkLog2[(checkLog2['colo'].str[:2] == 'zs') & (checkLog2['time_diff'] <= 20000) & (checkLog2['colo_broker'] == 'zs_89')]['time_diff'].values, bins=100, rwidth=0.6, alpha=0.4, color='red', label='zs colo shorting orders \\n zs_53, zs_89, zs_97')\n",
    "ax1.legend()\n",
    "plt.show()"
   ]
  },
  {
   "cell_type": "code",
   "execution_count": 167,
   "metadata": {},
   "outputs": [
    {
     "data": {
      "text/plain": [
       "colo_broker  sta   \n",
       "zs_53        staone      13\n",
       "             statwo     280\n",
       "zs_89        staone     140\n",
       "             statwo    1098\n",
       "zs_97        staone     472\n",
       "             statwo    3275\n",
       "Name: OrderQty, dtype: int64"
      ]
     },
     "execution_count": 167,
     "metadata": {},
     "output_type": "execute_result"
    }
   ],
   "source": [
    "checkLog2[(checkLog2['colo'].str[:2] == 'zs') & (checkLog2['time_diff'] <= 20000)].groupby(['colo_broker', 'sta'])['OrderQty'].size()"
   ]
  },
  {
   "cell_type": "code",
   "execution_count": 207,
   "metadata": {},
   "outputs": [
    {
     "data": {
      "text/plain": [
       "broker\n",
       "zs_52            [5386.0]\n",
       "zs_88            [8967.0]\n",
       "zs_96            [9754.0]\n",
       "zt_52          [537403.0]\n",
       "zt_88    [8971.0, 8970.0]\n",
       "Name: accCode, dtype: object"
      ]
     },
     "execution_count": 207,
     "metadata": {},
     "output_type": "execute_result"
    }
   ],
   "source": [
    "checkLog2.groupby('broker')['accCode'].unique()"
   ]
  },
  {
   "cell_type": "code",
   "execution_count": 24,
   "metadata": {},
   "outputs": [],
   "source": [
    "checkLog['use'] = np.where((checkLog['colo'].str[:2] == 'zs') & (checkLog['time_diff'] <= 20000), 1, np.where(\n",
    "(checkLog['colo'].str[:2] == 'zt') & (checkLog['time_diff'] <= 100000), 1, np.where(checkLog['accCode'].isin([6282, 6237]), 1, 0)))\n",
    "checkLog['broker'] = checkLog['colo'].str[:2] + '_' + checkLog['accCode'].astype(str).str[:2]\n",
    "checkLog1 = checkLog[checkLog['use'] == 1]"
   ]
  },
  {
   "cell_type": "code",
   "execution_count": 138,
   "metadata": {},
   "outputs": [
    {
     "data": {
      "text/html": [
       "<div>\n",
       "<style scoped>\n",
       "    .dataframe tbody tr th:only-of-type {\n",
       "        vertical-align: middle;\n",
       "    }\n",
       "\n",
       "    .dataframe tbody tr th {\n",
       "        vertical-align: top;\n",
       "    }\n",
       "\n",
       "    .dataframe thead th {\n",
       "        text-align: right;\n",
       "    }\n",
       "</style>\n",
       "<table border=\"1\" class=\"dataframe\">\n",
       "  <thead>\n",
       "    <tr style=\"text-align: right;\">\n",
       "      <th></th>\n",
       "      <th>index</th>\n",
       "      <th>0</th>\n",
       "    </tr>\n",
       "  </thead>\n",
       "  <tbody>\n",
       "    <tr>\n",
       "      <td>19</td>\n",
       "      <td>(2000, 2100]</td>\n",
       "      <td>29</td>\n",
       "    </tr>\n",
       "    <tr>\n",
       "      <td>18</td>\n",
       "      <td>(2100, 2200]</td>\n",
       "      <td>57</td>\n",
       "    </tr>\n",
       "    <tr>\n",
       "      <td>17</td>\n",
       "      <td>(2200, 2300]</td>\n",
       "      <td>289</td>\n",
       "    </tr>\n",
       "    <tr>\n",
       "      <td>16</td>\n",
       "      <td>(2300, 2400]</td>\n",
       "      <td>1446</td>\n",
       "    </tr>\n",
       "    <tr>\n",
       "      <td>15</td>\n",
       "      <td>(2400, 2500]</td>\n",
       "      <td>4977</td>\n",
       "    </tr>\n",
       "    <tr>\n",
       "      <td>9</td>\n",
       "      <td>(2500, 2600]</td>\n",
       "      <td>11921</td>\n",
       "    </tr>\n",
       "    <tr>\n",
       "      <td>6</td>\n",
       "      <td>(2600, 2700]</td>\n",
       "      <td>19154</td>\n",
       "    </tr>\n",
       "    <tr>\n",
       "      <td>5</td>\n",
       "      <td>(2700, 2800]</td>\n",
       "      <td>20021</td>\n",
       "    </tr>\n",
       "    <tr>\n",
       "      <td>8</td>\n",
       "      <td>(2800, 2900]</td>\n",
       "      <td>15265</td>\n",
       "    </tr>\n",
       "    <tr>\n",
       "      <td>10</td>\n",
       "      <td>(2900, 3000]</td>\n",
       "      <td>10799</td>\n",
       "    </tr>\n",
       "    <tr>\n",
       "      <td>12</td>\n",
       "      <td>(3000, 3100]</td>\n",
       "      <td>8220</td>\n",
       "    </tr>\n",
       "    <tr>\n",
       "      <td>14</td>\n",
       "      <td>(3100, 3200]</td>\n",
       "      <td>7428</td>\n",
       "    </tr>\n",
       "    <tr>\n",
       "      <td>13</td>\n",
       "      <td>(3200, 3300]</td>\n",
       "      <td>7460</td>\n",
       "    </tr>\n",
       "    <tr>\n",
       "      <td>11</td>\n",
       "      <td>(3300, 3400]</td>\n",
       "      <td>9997</td>\n",
       "    </tr>\n",
       "    <tr>\n",
       "      <td>7</td>\n",
       "      <td>(3400, 3500]</td>\n",
       "      <td>18023</td>\n",
       "    </tr>\n",
       "    <tr>\n",
       "      <td>3</td>\n",
       "      <td>(3500, 3600]</td>\n",
       "      <td>30227</td>\n",
       "    </tr>\n",
       "    <tr>\n",
       "      <td>0</td>\n",
       "      <td>(3600, 3700]</td>\n",
       "      <td>41627</td>\n",
       "    </tr>\n",
       "    <tr>\n",
       "      <td>1</td>\n",
       "      <td>(3700, 3800]</td>\n",
       "      <td>41549</td>\n",
       "    </tr>\n",
       "    <tr>\n",
       "      <td>2</td>\n",
       "      <td>(3800, 3900]</td>\n",
       "      <td>32171</td>\n",
       "    </tr>\n",
       "    <tr>\n",
       "      <td>4</td>\n",
       "      <td>(3900, 4000]</td>\n",
       "      <td>20074</td>\n",
       "    </tr>\n",
       "  </tbody>\n",
       "</table>\n",
       "</div>"
      ],
      "text/plain": [
       "           index      0\n",
       "19  (2000, 2100]     29\n",
       "18  (2100, 2200]     57\n",
       "17  (2200, 2300]    289\n",
       "16  (2300, 2400]   1446\n",
       "15  (2400, 2500]   4977\n",
       "9   (2500, 2600]  11921\n",
       "6   (2600, 2700]  19154\n",
       "5   (2700, 2800]  20021\n",
       "8   (2800, 2900]  15265\n",
       "10  (2900, 3000]  10799\n",
       "12  (3000, 3100]   8220\n",
       "14  (3100, 3200]   7428\n",
       "13  (3200, 3300]   7460\n",
       "11  (3300, 3400]   9997\n",
       "7   (3400, 3500]  18023\n",
       "3   (3500, 3600]  30227\n",
       "0   (3600, 3700]  41627\n",
       "1   (3700, 3800]  41549\n",
       "2   (3800, 3900]  32171\n",
       "4   (3900, 4000]  20074"
      ]
     },
     "execution_count": 138,
     "metadata": {},
     "output_type": "execute_result"
    }
   ],
   "source": [
    "bins = [2000, 2100, 2200, 2300, 2400, 2500, 2600, 2700, 2800, 2900, 3000, 3100, 3200, 3300, 3400, 3500, 3600, 3700, 3800, 3900, 4000]\n",
    "data=checkLog1[(checkLog1['broker'].isin(['zs_52', 'zs_54', 'zs_66', 'zs_92', 'zs_94', 'zs_96', 'zs_97']))]['time_diff'].values\n",
    "cats = pd.cut(data,bins)\n",
    "pd.value_counts(cats).reset_index().sort_values(by='index')"
   ]
  },
  {
   "cell_type": "code",
   "execution_count": 217,
   "metadata": {},
   "outputs": [
    {
     "data": {
      "text/plain": [
       "Side\n",
       "1.0     10594\n",
       "2.0    104935\n",
       "Name: SecurityID, dtype: int64"
      ]
     },
     "execution_count": 217,
     "metadata": {},
     "output_type": "execute_result"
    }
   ],
   "source": [
    "checkLog1[(checkLog1['broker'].isin(['zs_52', 'zs_54', 'zs_66', 'zs_92', 'zs_94', 'zs_96'])) & (checkLog1['time_diff'] >= 3600) & (checkLog1['time_diff'] <= 3900) & (~checkLog1['accCode'].isin([6237, 6282]))].groupby(['Side'])['SecurityID'].size()"
   ]
  },
  {
   "cell_type": "code",
   "execution_count": 218,
   "metadata": {},
   "outputs": [
    {
     "data": {
      "text/plain": [
       "Side\n",
       "1.0    54438\n",
       "2.0       78\n",
       "Name: SecurityID, dtype: int64"
      ]
     },
     "execution_count": 218,
     "metadata": {},
     "output_type": "execute_result"
    }
   ],
   "source": [
    "checkLog1[(checkLog1['broker'].isin(['zs_52', 'zs_54', 'zs_66', 'zs_92', 'zs_94', 'zs_96', 'zs_97'])) & (checkLog1['time_diff'] >= 2600) & (checkLog1['time_diff'] <= 2900) & (~checkLog1['accCode'].isin([6237, 6282]))].groupby(['Side'])['SecurityID'].size()"
   ]
  },
  {
   "cell_type": "code",
   "execution_count": 176,
   "metadata": {},
   "outputs": [
    {
     "data": {
      "image/png": "[encoded data removed]",
      "text/plain": [
       "<Figure size 720x432 with 1 Axes>"
      ]
     },
     "metadata": {
      "needs_background": "light"
     },
     "output_type": "display_data"
    }
   ],
   "source": [
    "fig = plt.figure(figsize=(10, 6))\n",
    "ax1 = fig.add_subplot(111)\n",
    "ax1.hist(checkLog1[(checkLog1['broker'] == 'zs_62') & (checkLog1['accCode'] == 6282)]['time_diff'].values, bins=100, rwidth=0.6, alpha=0.4, color='red', label=i)\n",
    "ax1.legend()\n",
    "plt.show()"
   ]
  },
  {
   "cell_type": "code",
   "execution_count": 136,
   "metadata": {},
   "outputs": [
    {
     "data": {
      "text/plain": [
       "ars\n",
       "11.0    346\n",
       "Name: Side, dtype: int64"
      ]
     },
     "execution_count": 136,
     "metadata": {},
     "output_type": "execute_result"
    }
   ],
   "source": [
    "checkLog1[(checkLog1['broker'] == 'zs_54') & (checkLog1['accCode'] == 5456) & (checkLog1['time_diff'] >= 2600) & (checkLog1['time_diff'] <= 2900)].groupby('ars')['Side'].size()"
   ]
  },
  {
   "cell_type": "code",
   "execution_count": 137,
   "metadata": {},
   "outputs": [
    {
     "data": {
      "text/plain": [
       "ars\n",
       "11.0    2049\n",
       "Name: Side, dtype: int64"
      ]
     },
     "execution_count": 137,
     "metadata": {},
     "output_type": "execute_result"
    }
   ],
   "source": [
    "checkLog1[(checkLog1['broker'] == 'zs_54') & (checkLog1['accCode'] == 5470) & (checkLog1['time_diff'] >= 3500) & (checkLog1['time_diff'] <= 3800)].groupby('ars')['Side'].size()"
   ]
  },
  {
   "cell_type": "code",
   "execution_count": 124,
   "metadata": {},
   "outputs": [
    {
     "data": {
      "text/plain": [
       "0.8376865671641791"
      ]
     },
     "execution_count": 124,
     "metadata": {},
     "output_type": "execute_result"
    }
   ],
   "source": [
    "449 / (87 + 449)"
   ]
  },
  {
   "cell_type": "code",
   "execution_count": 115,
   "metadata": {},
   "outputs": [
    {
     "data": {
      "text/html": [
       "<div>\n",
       "<style scoped>\n",
       "    .dataframe tbody tr th:only-of-type {\n",
       "        vertical-align: middle;\n",
       "    }\n",
       "\n",
       "    .dataframe tbody tr th {\n",
       "        vertical-align: top;\n",
       "    }\n",
       "\n",
       "    .dataframe thead th {\n",
       "        text-align: right;\n",
       "    }\n",
       "</style>\n",
       "<table border=\"1\" class=\"dataframe\">\n",
       "  <thead>\n",
       "    <tr style=\"text-align: right;\">\n",
       "      <th></th>\n",
       "      <th>index</th>\n",
       "      <th>0</th>\n",
       "    </tr>\n",
       "  </thead>\n",
       "  <tbody>\n",
       "    <tr>\n",
       "      <td>19</td>\n",
       "      <td>(2000, 2100]</td>\n",
       "      <td>0</td>\n",
       "    </tr>\n",
       "    <tr>\n",
       "      <td>18</td>\n",
       "      <td>(2100, 2200]</td>\n",
       "      <td>0</td>\n",
       "    </tr>\n",
       "    <tr>\n",
       "      <td>17</td>\n",
       "      <td>(2200, 2300]</td>\n",
       "      <td>1</td>\n",
       "    </tr>\n",
       "    <tr>\n",
       "      <td>16</td>\n",
       "      <td>(2300, 2400]</td>\n",
       "      <td>13</td>\n",
       "    </tr>\n",
       "    <tr>\n",
       "      <td>15</td>\n",
       "      <td>(2400, 2500]</td>\n",
       "      <td>46</td>\n",
       "    </tr>\n",
       "    <tr>\n",
       "      <td>12</td>\n",
       "      <td>(2500, 2600]</td>\n",
       "      <td>206</td>\n",
       "    </tr>\n",
       "    <tr>\n",
       "      <td>4</td>\n",
       "      <td>(2600, 2700]</td>\n",
       "      <td>459</td>\n",
       "    </tr>\n",
       "    <tr>\n",
       "      <td>3</td>\n",
       "      <td>(2700, 2800]</td>\n",
       "      <td>591</td>\n",
       "    </tr>\n",
       "    <tr>\n",
       "      <td>7</td>\n",
       "      <td>(2800, 2900]</td>\n",
       "      <td>402</td>\n",
       "    </tr>\n",
       "    <tr>\n",
       "      <td>10</td>\n",
       "      <td>(2900, 3000]</td>\n",
       "      <td>237</td>\n",
       "    </tr>\n",
       "    <tr>\n",
       "      <td>14</td>\n",
       "      <td>(3000, 3100]</td>\n",
       "      <td>164</td>\n",
       "    </tr>\n",
       "    <tr>\n",
       "      <td>13</td>\n",
       "      <td>(3100, 3200]</td>\n",
       "      <td>188</td>\n",
       "    </tr>\n",
       "    <tr>\n",
       "      <td>11</td>\n",
       "      <td>(3200, 3300]</td>\n",
       "      <td>210</td>\n",
       "    </tr>\n",
       "    <tr>\n",
       "      <td>9</td>\n",
       "      <td>(3300, 3400]</td>\n",
       "      <td>249</td>\n",
       "    </tr>\n",
       "    <tr>\n",
       "      <td>8</td>\n",
       "      <td>(3400, 3500]</td>\n",
       "      <td>264</td>\n",
       "    </tr>\n",
       "    <tr>\n",
       "      <td>6</td>\n",
       "      <td>(3500, 3600]</td>\n",
       "      <td>453</td>\n",
       "    </tr>\n",
       "    <tr>\n",
       "      <td>2</td>\n",
       "      <td>(3600, 3700]</td>\n",
       "      <td>726</td>\n",
       "    </tr>\n",
       "    <tr>\n",
       "      <td>0</td>\n",
       "      <td>(3700, 3800]</td>\n",
       "      <td>864</td>\n",
       "    </tr>\n",
       "    <tr>\n",
       "      <td>1</td>\n",
       "      <td>(3800, 3900]</td>\n",
       "      <td>731</td>\n",
       "    </tr>\n",
       "    <tr>\n",
       "      <td>5</td>\n",
       "      <td>(3900, 4000]</td>\n",
       "      <td>457</td>\n",
       "    </tr>\n",
       "  </tbody>\n",
       "</table>\n",
       "</div>"
      ],
      "text/plain": [
       "           index    0\n",
       "19  (2000, 2100]    0\n",
       "18  (2100, 2200]    0\n",
       "17  (2200, 2300]    1\n",
       "16  (2300, 2400]   13\n",
       "15  (2400, 2500]   46\n",
       "12  (2500, 2600]  206\n",
       "4   (2600, 2700]  459\n",
       "3   (2700, 2800]  591\n",
       "7   (2800, 2900]  402\n",
       "10  (2900, 3000]  237\n",
       "14  (3000, 3100]  164\n",
       "13  (3100, 3200]  188\n",
       "11  (3200, 3300]  210\n",
       "9   (3300, 3400]  249\n",
       "8   (3400, 3500]  264\n",
       "6   (3500, 3600]  453\n",
       "2   (3600, 3700]  726\n",
       "0   (3700, 3800]  864\n",
       "1   (3800, 3900]  731\n",
       "5   (3900, 4000]  457"
      ]
     },
     "execution_count": 115,
     "metadata": {},
     "output_type": "execute_result"
    }
   ],
   "source": [
    "bins = [2000, 2100, 2200, 2300, 2400, 2500, 2600, 2700, 2800, 2900, 3000, 3100, 3200, 3300, 3400, 3500, 3600, 3700, 3800, 3900, 4000]\n",
    "data=checkLog1[(checkLog1['broker'] == 'zs_54') & (checkLog1['accCode'] == 5470)]['time_diff'].values\n",
    "cats = pd.cut(data,bins)\n",
    "pd.value_counts(cats).reset_index().sort_values(by='index')"
   ]
  },
  {
   "cell_type": "code",
   "execution_count": 234,
   "metadata": {},
   "outputs": [
    {
     "data": {
      "text/plain": [
       "array(['zs_52', 'zs_88', 'zs_96', 'zt_52', 'zt_88'], dtype=object)"
      ]
     },
     "execution_count": 234,
     "metadata": {},
     "output_type": "execute_result"
    }
   ],
   "source": [
    "np.sort(checkLog2['broker'].unique())"
   ]
  },
  {
   "cell_type": "code",
   "execution_count": 242,
   "metadata": {},
   "outputs": [
    {
     "data": {
      "text/plain": [
       "array([-2,  2], dtype=int64)"
      ]
     },
     "execution_count": 242,
     "metadata": {},
     "output_type": "execute_result"
    }
   ],
   "source": [
    "checkLog[checkLog['broker'] == 'zt_52']['orderDirection'].unique()"
   ]
  },
  {
   "cell_type": "code",
   "execution_count": 224,
   "metadata": {},
   "outputs": [
    {
     "data": {
      "text/plain": [
       "<matplotlib.legend.Legend at 0x187b7e5e748>"
      ]
     },
     "execution_count": 224,
     "metadata": {},
     "output_type": "execute_result"
    },
    {
     "data": {
      "image/png": "[encoded data removed]",
      "text/plain": [
       "<Figure size 720x432 with 1 Axes>"
      ]
     },
     "metadata": {
      "needs_background": "light"
     },
     "output_type": "display_data"
    }
   ],
   "source": [
    "fig = plt.figure(figsize=(10, 6))\n",
    "ax1 = fig.add_subplot(221)\n",
    "ax1.hist(checkLog2[(checkLog2['broker'].isin(np.sort(checkLog2['broker'].unique())[:3])) & (checkLog2['time_diff'] <= 20000)]['time_diff'].values, bins=100, rwidth=0.6, alpha=0.4, color='red', label=np.sort(checkLog2['broker'].unique())[0])\n",
    "ax1.legend()"
   ]
  },
  {
   "cell_type": "code",
   "execution_count": 245,
   "metadata": {},
   "outputs": [
    {
     "data": {
      "text/plain": [
       "array([ 1, -1], dtype=int64)"
      ]
     },
     "execution_count": 245,
     "metadata": {},
     "output_type": "execute_result"
    }
   ],
   "source": [
    "checkLog[checkLog['accCode'].isin([6237, 6282])]['orderDirection'].unique()"
   ]
  },
  {
   "cell_type": "code",
   "execution_count": 246,
   "metadata": {},
   "outputs": [
    {
     "data": {
      "image/png": "[encoded data removed]",
      "text/plain": [
       "<Figure size 720x432 with 2 Axes>"
      ]
     },
     "metadata": {
      "needs_background": "light"
     },
     "output_type": "display_data"
    }
   ],
   "source": [
    "fig = plt.figure(figsize=(10, 6))\n",
    "ax1 = fig.add_subplot(221)\n",
    "ax1.hist(checkLog1[(checkLog1['accCode'] == 6237)]['time_diff'].values, bins=100, rwidth=0.6, alpha=0.4, color='red', label='6237 normal orders')\n",
    "ax1.legend()\n",
    "\n",
    "ax1 = fig.add_subplot(222)\n",
    "ax1.hist(checkLog1[(checkLog1['accCode'] == 6282)]['time_diff'].values, bins=100, rwidth=0.6, alpha=0.4, color='red', label='6282 normal orders')\n",
    "ax1.legend()\n",
    "\n",
    "\n",
    "fig.tight_layout()\n",
    "plt.show()"
   ]
  },
  {
   "cell_type": "code",
   "execution_count": 216,
   "metadata": {},
   "outputs": [
    {
     "data": {
      "image/png": "[encoded data removed]",
      "text/plain": [
       "<Figure size 720x432 with 2 Axes>"
      ]
     },
     "metadata": {
      "needs_background": "light"
     },
     "output_type": "display_data"
    }
   ],
   "source": [
    "fig = plt.figure(figsize=(10, 6))\n",
    "ax1 = fig.add_subplot(221)\n",
    "ax1.hist(checkLog1[(checkLog1['broker'] == np.sort(checkLog1['broker'].unique())[6]) & (checkLog1['accCode'] != 6237)]['time_diff'].values, bins=100, rwidth=0.6, alpha=0.4, color='red', label=np.sort(checkLog1['broker'].unique())[6])\n",
    "ax1.legend()\n",
    "\n",
    "ax2 = fig.add_subplot(223)\n",
    "ax2.hist(checkLog1[(checkLog1['broker'] == np.sort(checkLog1['broker'].unique())[7]) & (checkLog1['accCode'] != 6282)]['time_diff'].values, bins=100, rwidth=0.6, alpha=0.4, color='red', label=np.sort(checkLog1['broker'].unique())[7])\n",
    "ax2.legend()\n",
    "\n",
    "fig.tight_layout()\n",
    "plt.show()"
   ]
  },
  {
   "cell_type": "code",
   "execution_count": 193,
   "metadata": {},
   "outputs": [
    {
     "data": {
      "text/plain": [
       "broker\n",
       "zs_52            [5386.0]\n",
       "zs_88            [8967.0]\n",
       "zs_96            [9754.0]\n",
       "zt_52          [537403.0]\n",
       "zt_88    [8971.0, 8970.0]\n",
       "Name: accCode, dtype: object"
      ]
     },
     "execution_count": 193,
     "metadata": {},
     "output_type": "execute_result"
    }
   ],
   "source": [
    "checkLog2.groupby('broker')['accCode'].unique()"
   ]
  },
  {
   "cell_type": "code",
   "execution_count": 188,
   "metadata": {
    "scrolled": false
   },
   "outputs": [
    {
     "name": "stderr",
     "output_type": "stream",
     "text": [
      "C:\\Users\\win\\Anaconda3\\lib\\site-packages\\ipykernel_launcher.py:8: UserWarning: Boolean Series key will be reindexed to match DataFrame index.\n",
      "  \n"
     ]
    },
    {
     "data": {
      "image/png": "[encoded data removed]",
      "text/plain": [
       "<Figure size 720x432 with 1 Axes>"
      ]
     },
     "metadata": {
      "needs_background": "light"
     },
     "output_type": "display_data"
    },
    {
     "data": {
      "image/png": "[encoded data removed]",
      "text/plain": [
       "<Figure size 720x432 with 1 Axes>"
      ]
     },
     "metadata": {
      "needs_background": "light"
     },
     "output_type": "display_data"
    },
    {
     "data": {
      "image/png": "[encoded data removed]",
      "text/plain": [
       "<Figure size 720x432 with 1 Axes>"
      ]
     },
     "metadata": {
      "needs_background": "light"
     },
     "output_type": "display_data"
    },
    {
     "data": {
      "image/png": "[encoded data removed]",
      "text/plain": [
       "<Figure size 720x432 with 1 Axes>"
      ]
     },
     "metadata": {
      "needs_background": "light"
     },
     "output_type": "display_data"
    },
    {
     "data": {
      "image/png": "[encoded data removed]",
      "text/plain": [
       "<Figure size 720x432 with 1 Axes>"
      ]
     },
     "metadata": {
      "needs_background": "light"
     },
     "output_type": "display_data"
    },
    {
     "data": {
      "image/png": "[encoded data removed]",
      "text/plain": [
       "<Figure size 720x432 with 1 Axes>"
      ]
     },
     "metadata": {
      "needs_background": "light"
     },
     "output_type": "display_data"
    },
    {
     "data": {
      "image/png": "[encoded data removed]",
      "text/plain": [
       "<Figure size 720x432 with 1 Axes>"
      ]
     },
     "metadata": {
      "needs_background": "light"
     },
     "output_type": "display_data"
    },
    {
     "data": {
      "image/png": "[encoded data removed]",
      "text/plain": [
       "<Figure size 720x432 with 1 Axes>"
      ]
     },
     "metadata": {
      "needs_background": "light"
     },
     "output_type": "display_data"
    },
    {
     "data": {
      "image/png": "[encoded data removed]",
      "text/plain": [
       "<Figure size 720x432 with 1 Axes>"
      ]
     },
     "metadata": {
      "needs_background": "light"
     },
     "output_type": "display_data"
    },
    {
     "data": {
      "image/png": "[encoded data removed]",
      "text/plain": [
       "<Figure size 720x432 with 1 Axes>"
      ]
     },
     "metadata": {
      "needs_background": "light"
     },
     "output_type": "display_data"
    }
   ],
   "source": [
    "# for zs, set the x range to first 20ms\n",
    "# for zt, set the x range to first 100ms\n",
    "# for 6282, 6237 (HK servers), 200ms\n",
    "import matplotlib.pyplot as plt\n",
    "for i in np.sort(checkLog1['broker'].unique()):\n",
    "    fig = plt.figure(figsize=(10, 6))\n",
    "    ax1 = fig.add_subplot(111)\n",
    "    ax1.hist(checkLog1[checkLog['broker'] == i]['time_diff'].values, bins=100, rwidth=0.6, alpha=0.4, color='red', label=i)\n",
    "    ax1.legend()\n",
    "    plt.show()"
   ]
  }
 ],
 "metadata": {
  "kernelspec": {
   "display_name": "Python 3",
   "language": "python",
   "name": "python3"
  },
  "language_info": {
   "codemirror_mode": {
    "name": "ipython",
    "version": 3
   },
   "file_extension": ".py",
   "mimetype": "text/x-python",
   "name": "python",
   "nbconvert_exporter": "python",
   "pygments_lexer": "ipython3",
   "version": "3.7.4"
  }
 },
 "nbformat": 4,
 "nbformat_minor": 2
}
