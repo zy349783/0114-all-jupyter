{
 "cells": [
  {
   "cell_type": "code",
   "execution_count": null,
   "metadata": {},
   "outputs": [],
   "source": [
    "import numpy as np\n",
    "import pandas as pd\n",
    "import statsmodels.api as sm\n",
    "import pickle\n",
    "from matplotlib import pyplot as plt\n",
    "import statsmodels.api as sm\n",
    "from matplotlib.ticker import Formatter\n",
    "import collections\n",
    "import glob\n",
    "import os\n",
    "from datetime import datetime\n",
    "pd.set_option(\"max_columns\", 200)\n",
    "\n",
    "\n",
    "def unzip_data():\n",
    "    y = datetime.today().strftime('%Y%m%d')\n",
    "    exe_path = 'G:\\\\7z1900-extra\\\\7za.exe'\n",
    "    rar_path = 'L:\\\\KR\\\\data\\\\quant360_data\\\\2020\\\\202006\\\\' + y + '\\\\SH\\\\snapshot.7z'\n",
    "    path = 'A:\\\\KR_daily_data\\\\' +  y\n",
    "    os.mkdir(path)\n",
    "    path1 = path + '\\\\SH'\n",
    "    un_path = path1\n",
    "    cmd = '{} x {} -o{} -aos -r'.format(exe_path, rar_path, un_path)\n",
    "    os.system(cmd)\n",
    "    rar_path = 'L:\\\\KR\\\\data\\\\quant360_data\\\\2020\\\\202006\\\\' + y + '\\\\SH\\\\tick.7z'\n",
    "    cmd = '{} x {} -o{} -aos -r'.format(exe_path, rar_path, un_path)\n",
    "    os.system(cmd)\n",
    "    rar_path = 'L:\\\\KR\\\\data\\\\quant360_data\\\\2020\\\\202006\\\\' + y + '\\\\SZ\\\\snapshot.7z'\n",
    "    path1 = path + '\\\\SZ'\n",
    "    un_path = path1\n",
    "    cmd = '{} x {} -o{} -aos -r'.format(exe_path, rar_path, un_path)\n",
    "    os.system(cmd)\n",
    "    rar_path = 'L:\\\\KR\\\\data\\\\quant360_data\\\\2020\\\\202006\\\\' + y + '\\\\SZ\\\\order.7z'\n",
    "    cmd = '{} x {} -o{} -aos -r'.format(exe_path, rar_path, un_path)\n",
    "    os.system(cmd)\n",
    "    rar_path = 'L:\\\\KR\\\\data\\\\quant360_data\\\\2020\\\\202006\\\\' + y + '\\\\SZ\\\\tick.7z'\n",
    "    cmd = '{} x {} -o{} -aos -r'.format(exe_path, rar_path, un_path)\n",
    "    os.system(cmd)\n",
    "    \n",
    "if __name__ == '__main__':\n",
    "    unzip_data()"
   ]
  }
 ],
 "metadata": {
  "kernelspec": {
   "display_name": "Python 3",
   "language": "python",
   "name": "python3"
  },
  "language_info": {
   "codemirror_mode": {
    "name": "ipython",
    "version": 3
   },
   "file_extension": ".py",
   "mimetype": "text/x-python",
   "name": "python",
   "nbconvert_exporter": "python",
   "pygments_lexer": "ipython3",
   "version": "3.7.4"
  }
 },
 "nbformat": 4,
 "nbformat_minor": 2
}
