{
 "cells": [
  {
   "cell_type": "code",
   "execution_count": 1,
   "metadata": {
    "scrolled": false
   },
   "outputs": [
    {
     "name": "stdout",
     "output_type": "stream",
     "text": [
      "\\\\192.168.10.34\\trading\\dailyRawData\\20201014\\logs_20201014_zs_88_04_day_pcap\\mdTradePcap_SZ_20201014_0900.csv\n",
      "\\\\192.168.10.34\\trading\\dailyRawData\\20201014\\logs_20201014_zs_96_03_day_pcap\\mdTradePcap_SZ_20201014_0900.csv\n"
     ]
    }
   ],
   "source": [
    "import pandas as pd\n",
    "import numpy as np\n",
    "import glob\n",
    "y = '20201014'\n",
    "sl1 = [123061, 128091]\n",
    "sl2 = [2123061, 2128091]\n",
    "for i in [y]:\n",
    "    p1 = '\\\\\\\\192.168.10.34\\\\trading\\\\dailyRawData\\\\' + i + '\\\\***\\mdTradePcap_SZ_***.csv'\n",
    "    p1 = np.array(glob.glob(p1))\n",
    "    if len(p1) == 2:\n",
    "        print(p1[0])\n",
    "        data1 = pd.read_csv(p1[0])\n",
    "        print(p1[1])\n",
    "        data2 = pd.read_csv(p1[1])\n",
    "    else:\n",
    "        print(p1[0])\n",
    "        data1 = pd.read_csv(p1[0])\n",
    "    \n",
    "    data3 = []\n",
    "    for stock in sl1:\n",
    "        p2 = '\\\\\\\\192.168.10.34\\\\random_backup\\\\Kevin_zhenyu\\\\KR_daily_data\\\\' + i + '\\\\SZ\\\\tick\\\\' + str(stock) + '.csv'\n",
    "        p2 = pd.read_csv(p2)\n",
    "        p2['SecurityID'] = stock\n",
    "        data3 += [p2]\n",
    "    data3 = pd.concat(data3)"
   ]
  },
  {
   "cell_type": "code",
   "execution_count": 2,
   "metadata": {},
   "outputs": [
    {
     "data": {
      "text/plain": [
       "ID\n",
       "2123061    5572165\n",
       "2128091     362180\n",
       "Name: TradeQty, dtype: int64"
      ]
     },
     "metadata": {},
     "output_type": "display_data"
    },
    {
     "data": {
      "text/plain": [
       "ID\n",
       "2123061    5572065\n",
       "2128091     362140\n",
       "Name: TradeQty, dtype: int64"
      ]
     },
     "metadata": {},
     "output_type": "display_data"
    },
    {
     "data": {
      "text/plain": [
       "SecurityID\n",
       "123061    5572165\n",
       "128091     362180\n",
       "Name: Qty, dtype: int64"
      ]
     },
     "metadata": {},
     "output_type": "display_data"
    }
   ],
   "source": [
    "display(data1[(data1['ID'].isin(sl2)) & (data1['ExecType'] == 'F')].groupby(['ID'])['TradeQty'].sum())\n",
    "display(data2[(data2['ID'].isin(sl2)) & (data2['ExecType'] == 'F')].groupby(['ID'])['TradeQty'].sum())\n",
    "display(data3[data3['ExecType'] == 'F'].groupby('SecurityID')['Qty'].sum())"
   ]
  },
  {
   "cell_type": "code",
   "execution_count": 4,
   "metadata": {},
   "outputs": [
    {
     "data": {
      "text/plain": [
       "skey\n",
       "2123061    5572065\n",
       "2128091     362140\n",
       "Name: trade_qty, dtype: int32"
      ]
     },
     "metadata": {},
     "output_type": "display_data"
    },
    {
     "name": "stdout",
     "output_type": "stream",
     "text": [
      "50\n"
     ]
    },
    {
     "data": {
      "text/plain": [
       "skey\n",
       "2123061    5572165\n",
       "2128091     362180\n",
       "Name: trade_qty, dtype: int32"
      ]
     },
     "metadata": {},
     "output_type": "display_data"
    }
   ],
   "source": [
    "# SZ version\n",
    "import datetime\n",
    "\n",
    "od = pd.read_pickle('A:\\\\convertible_bond\\\\' + y + '\\\\trade.pkl')\n",
    "display(od[(od['skey'].isin(sl2)) & (od['trade_type'] == 1)].groupby(['skey'])['trade_qty'].sum())\n",
    "od = od[~od['skey'].isin(sl2)]\n",
    "\n",
    "# data1/data2\n",
    "tradeLog = data1[data1['ID'].isin(sl2)]\n",
    "tradeLog = tradeLog.rename(columns={\"time\":'TransactTime', 'ID':'skey'})\n",
    "tradeLog[\"TradeBSFlag\"] = 'N'\n",
    "tradeLog = tradeLog[tradeLog['skey'].isin(sl2)]\n",
    "tradeLog['date'] = int(y)\n",
    "tradeLog['time1'] = int(y) * 1000000000 + tradeLog['TransactTime']\n",
    "tradeLog[\"TransactTime\"] = tradeLog['TransactTime'].astype('int64') * 1000\n",
    "tradeLog[\"clockAtArrival\"] = tradeLog[\"time1\"].astype(str).apply(\n",
    "    lambda x: np.int64(datetime.datetime.strptime(x, '%Y%m%d%H%M%S%f').timestamp() * 1e6))\n",
    "tradeLog.drop(\"time1\", axis=1, inplace=True)\n",
    "tradeLog['datetime'] = tradeLog[\"clockAtArrival\"].apply(lambda x: datetime.datetime.fromtimestamp(x / 1e6))\n",
    "tradeLog['TradePrice'] = (tradeLog['TradePrice'] / 10000).round(3)\n",
    "tradeLog = tradeLog.rename(columns={\"TradeQty\":\"trade_qty\", \"TradePrice\":\"trade_price\", \"ExecType\":\"trade_type\", 'TransactTime':'time'})\n",
    "tradeLog[\"trade_flag\"] = 0\n",
    "tradeLog[\"trade_type\"] = np.where(tradeLog[\"trade_type\"] == 'F', 1, tradeLog[\"trade_type\"])\n",
    "for col in [\"skey\", \"date\", \"ApplSeqNum\", \"BidApplSeqNum\", \"OfferApplSeqNum\", \"trade_qty\", \"trade_type\", \"trade_flag\"]:\n",
    "    tradeLog[col] = tradeLog[col].astype('int32')\n",
    "\n",
    "tradeLog = tradeLog[[\"skey\", \"date\", \"time\", \"clockAtArrival\", \"datetime\", \"ApplSeqNum\", \"trade_type\", \"trade_flag\",\n",
    "                                             \"trade_price\", \"trade_qty\", \"BidApplSeqNum\", \"OfferApplSeqNum\"]]\n",
    "assert(tradeLog['skey'].nunique() == 2)\n",
    "od = pd.concat([od, tradeLog]).reset_index(drop=True)\n",
    "od.to_pickle('A:\\\\convertible_bond\\\\' + y + '\\\\trade.pkl')\n",
    "print(od['skey'].nunique())\n",
    "display(od[(od['skey'].isin(sl2)) & (od['trade_type'] == 1)].groupby(['skey'])['trade_qty'].sum())"
   ]
  },
  {
   "cell_type": "code",
   "execution_count": 17,
   "metadata": {
    "scrolled": true
   },
   "outputs": [
    {
     "name": "stdout",
     "output_type": "stream",
     "text": [
      "\\\\192.168.10.34\\trading\\dailyRawData\\20201105\\logs_20201105_zt_52_03_day_pcap\\mdTradePcap_SH_20201105_0900.csv\n",
      "\\\\192.168.10.34\\trading\\dailyRawData\\20201105\\logs_20201105_zt_88_03_day_pcap\\mdTradePcap_SH_20201105_0900.csv\n"
     ]
    }
   ],
   "source": [
    "import pandas as pd\n",
    "import numpy as np\n",
    "import glob\n",
    "y = '20201105'\n",
    "sl1 = [110044, 113011, 113035, 113038, 113520, 113521, 113555, 113576]\n",
    "sl2 = [1110044, 1113011, 1113035, 1113038, 1113520, 1113521, 1113555, 1113576]\n",
    "for i in [y]:\n",
    "    p1 = '\\\\\\\\192.168.10.34\\\\trading\\\\dailyRawData\\\\' + i + '\\\\***\\mdTradePcap_SH_***.csv'\n",
    "    p1 = np.array(glob.glob(p1))\n",
    "    if len(p1) == 2:\n",
    "        print(p1[0])\n",
    "        data1 = pd.read_csv(p1[0])\n",
    "        print(p1[1])\n",
    "        data2 = pd.read_csv(p1[1])\n",
    "    else:\n",
    "        print(p1[0])\n",
    "        data1 = pd.read_csv(p1[0])\n",
    "    \n",
    "    data3 = []\n",
    "    for stock in sl1:\n",
    "        p2 = 'A:\\\\KR_daily_data\\\\' + i + '\\\\SH\\\\tick\\\\' + str(stock) + '.csv'\n",
    "        p2 = pd.read_csv(p2)\n",
    "        p2['SecurityID'] = stock\n",
    "        data3 += [p2]\n",
    "    data3 = pd.concat(data3)"
   ]
  },
  {
   "cell_type": "code",
   "execution_count": 18,
   "metadata": {},
   "outputs": [
    {
     "data": {
      "text/plain": [
       "ID\n",
       "1110044    197088\n",
       "1113011    151752\n",
       "1113035    636790\n",
       "1113038    164625\n",
       "1113520    415754\n",
       "1113521     80839\n",
       "1113555     36041\n",
       "1113576    168057\n",
       "Name: TradeQty, dtype: int64"
      ]
     },
     "metadata": {},
     "output_type": "display_data"
    },
    {
     "data": {
      "text/plain": [
       "ID\n",
       "1110044    101056\n",
       "1113011    123725\n",
       "1113035    550486\n",
       "1113038    127944\n",
       "1113520    272825\n",
       "1113521     61717\n",
       "1113555     28118\n",
       "1113576    125148\n",
       "Name: TradeQty, dtype: int64"
      ]
     },
     "metadata": {},
     "output_type": "display_data"
    },
    {
     "data": {
      "text/plain": [
       "SecurityID\n",
       "110044    197088\n",
       "113011    151752\n",
       "113035    636790\n",
       "113038    164625\n",
       "113520    415754\n",
       "113521     80839\n",
       "113555     36041\n",
       "113576    168057\n",
       "Name: TradeQty, dtype: int64"
      ]
     },
     "metadata": {},
     "output_type": "display_data"
    }
   ],
   "source": [
    "display(data1[(data1['ID'].isin(sl2))].groupby(['ID'])['TradeQty'].sum())\n",
    "display(data2[(data2['ID'].isin(sl2))].groupby(['ID'])['TradeQty'].sum())\n",
    "display(data3.groupby('SecurityID')['TradeQty'].sum())"
   ]
  },
  {
   "cell_type": "code",
   "execution_count": 19,
   "metadata": {},
   "outputs": [
    {
     "data": {
      "text/plain": [
       "skey\n",
       "1110044    101056\n",
       "1113011    123725\n",
       "1113035    550486\n",
       "1113038    127944\n",
       "1113520    272825\n",
       "1113521     61717\n",
       "1113555     28118\n",
       "1113576    125148\n",
       "Name: trade_qty, dtype: int32"
      ]
     },
     "metadata": {},
     "output_type": "display_data"
    },
    {
     "name": "stdout",
     "output_type": "stream",
     "text": [
      "50\n"
     ]
    },
    {
     "data": {
      "text/plain": [
       "skey\n",
       "1110044    197088\n",
       "1113011    151752\n",
       "1113035    636790\n",
       "1113038    164625\n",
       "1113520    415754\n",
       "1113521     80839\n",
       "1113555     36041\n",
       "1113576    168057\n",
       "Name: trade_qty, dtype: int32"
      ]
     },
     "metadata": {},
     "output_type": "display_data"
    }
   ],
   "source": [
    "# SH version\n",
    "import datetime\n",
    "\n",
    "od = pd.read_pickle('A:\\\\convertible_bond\\\\' + y + '\\\\trade.pkl')\n",
    "display(od[(od['skey'].isin(sl2)) & (od['trade_type'] == 1)].groupby(['skey'])['trade_qty'].sum())\n",
    "od = od[~od['skey'].isin(sl2)]\n",
    "# data3\n",
    "tradeLog = data3\n",
    "tradeLog[\"date\"] = tradeLog[\"TradeTime\"].iloc[0]//1000000000\n",
    "tradeLog = tradeLog.rename(columns={\"TradeQty\":\"trade_qty\", \"TradePrice\":\"trade_price\", \n",
    "                                    \"TradeBSFlag\":\"trade_flag\", \"TradeAmount\":\"trade_money\",\n",
    "                                   \"TradeIndex\":\"ApplSeqNum\", \"SellNo\":\"OfferApplSeqNum\",\n",
    "                                   \"BuyNo\":\"BidApplSeqNum\"})\n",
    "tradeLog[\"trade_type\"] = 1\n",
    "tradeLog[\"skey\"] = tradeLog[\"SecurityID\"] + 1000000\n",
    "tradeLog[\"clockAtArrival\"] = tradeLog[\"TradeTime\"].astype(str).apply(lambda x: np.int64(datetime.datetime.strptime(x, '%Y%m%d%H%M%S%f').timestamp()*1e6))\n",
    "tradeLog['datetime'] = tradeLog[\"clockAtArrival\"].apply(lambda x: datetime.datetime.fromtimestamp(x/1e6))\n",
    "tradeLog[\"time\"] = (tradeLog['TradeTime'] - int(tradeLog['TradeTime'].iloc[0]//1000000000*1000000000)).astype(np.int64)*1000\n",
    "tradeLog[\"trade_flag\"] = np.where(tradeLog[\"trade_flag\"] == 'B', 1, np.where(\n",
    "    tradeLog[\"trade_flag\"] == 'S', 2, 0))\n",
    "for col in [\"skey\", \"date\", \"ApplSeqNum\", \"BidApplSeqNum\", \"OfferApplSeqNum\", \"trade_qty\", \"trade_type\", \"trade_flag\"]:\n",
    "    tradeLog[col] = tradeLog[col].astype('int32')\n",
    "\n",
    "tradeLog = tradeLog[[\"skey\", \"date\", \"time\", \"clockAtArrival\", \"datetime\", \"ApplSeqNum\", \"trade_type\", \"trade_flag\",\n",
    "                                             \"trade_price\", \"trade_qty\", \"BidApplSeqNum\", \"OfferApplSeqNum\"]]\n",
    "assert(tradeLog['skey'].nunique() == 8)\n",
    "od = pd.concat([od, tradeLog]).reset_index(drop=True)\n",
    "od.to_pickle('A:\\\\convertible_bond\\\\' + y + '\\\\trade.pkl')\n",
    "print(od['skey'].nunique())\n",
    "display(od[(od['skey'].isin(sl2)) & (od['trade_type'] == 1)].groupby(['skey'])['trade_qty'].sum())"
   ]
  }
 ],
 "metadata": {
  "kernelspec": {
   "display_name": "Python 3",
   "language": "python",
   "name": "python3"
  },
  "language_info": {
   "codemirror_mode": {
    "name": "ipython",
    "version": 3
   },
   "file_extension": ".py",
   "mimetype": "text/x-python",
   "name": "python",
   "nbconvert_exporter": "python",
   "pygments_lexer": "ipython3",
   "version": "3.7.4"
  }
 },
 "nbformat": 4,
 "nbformat_minor": 2
}
