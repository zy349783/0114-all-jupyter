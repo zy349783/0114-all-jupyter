{
 "cells": [
  {
   "cell_type": "code",
   "execution_count": 51,
   "metadata": {},
   "outputs": [
    {
     "name": "stdout",
     "output_type": "stream",
     "text": [
      "-0.7728140515650449\n",
      "          A         B\n",
      "0  1.232106 -0.772814\n",
      "1 -0.675943 -1.095646\n",
      "2  1.216401 -1.201464\n",
      "[[1.         0.28742017]\n",
      " [0.28742017 1.        ]]\n"
     ]
    },
    {
     "data": {
      "image/png": "[encoded data removed]",
      "text/plain": [
       "<Figure size 432x288 with 1 Axes>"
      ]
     },
     "metadata": {},
     "output_type": "display_data"
    },
    {
     "name": "stdout",
     "output_type": "stream",
     "text": [
      "         A        B\n",
      "A  1.00000  0.28742\n",
      "B  0.28742  1.00000\n",
      "0.2874201704158917\n"
     ]
    }
   ],
   "source": [
    "import numpy as np\n",
    "import pandas as pd\n",
    "import patsy\n",
    "import statsmodels.api as sm\n",
    "import matplotlib\n",
    "import matplotlib.pyplot as plt\n",
    "%matplotlib inline\n",
    "matplotlib.style.use('ggplot')\n",
    "\n",
    "x = pd.DataFrame(np.random.randn(3,2),columns=['A','B'])\n",
    "print(x.iloc[0,1])\n",
    "print(x)\n",
    "\n",
    "# 线性回归\n",
    "y,X = patsy.dmatrices('A~B',x)\n",
    "X\n",
    "coef, resid, _, _ = np.linalg.lstsq(X, y, rcond=-1)\n",
    "coef = pd.Series(coef.squeeze(), index=X.design_info.column_names)\n",
    "coef\n",
    "print(np.corrcoef(x['A'],x['B']))\n",
    "\n",
    "# 相关性\n",
    "plt.scatter(x['A'], x['B'])\n",
    "plt.show()\n",
    "print(x.corr())\n",
    "print(x.A.corr(x.B))\n",
    "\n",
    "\n",
    "#y = np.matrix([[1,2],[3,4]])\n",
    "#print(y)\n",
    "#y[:,1] = y[:,1]-y[:,1].mean(axis = 0)\n",
    "#print(y)\n",
    "#print(y.shape)"
   ]
  },
  {
   "cell_type": "code",
   "execution_count": null,
   "metadata": {},
   "outputs": [],
   "source": []
  },
  {
   "cell_type": "code",
   "execution_count": null,
   "metadata": {},
   "outputs": [],
   "source": []
  }
 ],
 "metadata": {
  "kernelspec": {
   "display_name": "Python 3",
   "language": "python",
   "name": "python3"
  },
  "language_info": {
   "codemirror_mode": {
    "name": "ipython",
    "version": 3
   },
   "file_extension": ".py",
   "mimetype": "text/x-python",
   "name": "python",
   "nbconvert_exporter": "python",
   "pygments_lexer": "ipython3",
   "version": "3.7.4"
  }
 },
 "nbformat": 4,
 "nbformat_minor": 2
}
